{
 "cells": [
  {
   "cell_type": "code",
   "execution_count": 2,
   "id": "physical-springfield",
   "metadata": {},
   "outputs": [],
   "source": [
    "import sys\n",
    "import os\n",
    "import math\n",
    "\n",
    "import numpy as np\n",
    "import pandas as pd\n",
    "import matplotlib.pyplot as plt\n",
    "import seaborn as sns"
   ]
  },
  {
   "cell_type": "code",
   "execution_count": 3,
   "id": "bulgarian-battlefield",
   "metadata": {},
   "outputs": [
    {
     "name": "stderr",
     "output_type": "stream",
     "text": [
      "/home/siedan/.cache/pypoetry/virtualenvs/analysis--7SA5cpG-py3.8/lib/python3.8/site-packages/IPython/core/interactiveshell.py:3357: DtypeWarning: Columns (25,59) have mixed types.Specify dtype option on import or set low_memory=False.\n",
      "  if (await self.run_code(code, result,  async_=asy)):\n"
     ]
    }
   ],
   "source": [
    "raw_data_folder = os.path.abspath('/home/siedan/programming/masterarbeit/code/analysis/raw_data')\n",
    "\n",
    "\n",
    "columns = ['matrikel_num', 'Studienjahr', 'geschlecht', 'avgECTS_sem_before', 'ects_year_before', 'year',\n",
    "           'first_exam_negative', 'AHS_dummy', 'BHS_dummy', 'ausland_vorbildung_dummy',\n",
    "           'sonstige_vorbildung_dummy', 'delayed_dummy', 'num_parallel_studies', 'jus_dummy',\n",
    "           'bwl_dummy', 'years_since_matura', 'styria_dummy', 'not_styria_dummy', 'germany_dummy',\n",
    "           'other_foreign_dummy', 'years_since_18', 'planned_duration','full_duration_sem',\n",
    "           'full_duration_sem_before', 'firstGen', 'cum_ects_pos_before',\n",
    "           'status_key', 'ECTS_year', 'SWS_year', 'active_dummy', 'subject']\n",
    "\n",
    "\n",
    "def load_df(name):\n",
    "    return pd.read_csv(os.path.join(raw_data_folder, name))\n",
    "\n",
    "df = load_df('bwl_pad_jus.csv').reset_index(drop = True)\n",
    "# df.columns"
   ]
  },
  {
   "cell_type": "markdown",
   "id": "c0cafb9b",
   "metadata": {},
   "source": [
    "## Important DataFrame Adjusments:"
   ]
  },
  {
   "cell_type": "code",
   "execution_count": 4,
   "id": "9dfa8871",
   "metadata": {},
   "outputs": [],
   "source": [
    "# Calculating \"full_duration_sem_before\" as a new column:\n",
    "def full_duration_sem_before(df):\n",
    "    for i in range(len(df)):\n",
    "        a = math.floor(df.loc[i, \"full_duration_sem\"])\n",
    "        if a <= 1:\n",
    "            df.loc[i, \"full_duration_sem_before\"] = 0\n",
    "        else:\n",
    "            if df.loc[i, \"last_semester_name\"][2] == 'W':\n",
    "                df.loc[i, \"full_duration_sem_before\"] = a - 1\n",
    "            else:\n",
    "                df.loc[i, \"full_duration_sem_before\"] = a - 2\n",
    "    return df\n",
    "\n",
    "\n",
    "\n",
    "# Calculating \"geschlecht\" categorial:\n",
    "def geschlecht(df):\n",
    "    for i in range(len(df)):\n",
    "        a = df.loc[i, \"geschlecht\"]\n",
    "        if a == \"W\":\n",
    "            df.loc[i, \"geschlecht\"] = 0\n",
    "        else:\n",
    "            df.loc[i,\"geschlecht\"] = 1\n",
    "    return df\n",
    "\n",
    "# Calculating 'cum_ects_pos_before':\n",
    "def cum_ects_pos_before(df):\n",
    "    df['cum_ects_pos_before'] = df['avgECTS_sem_before']*df['full_duration_sem_before']\n",
    "    return df\n",
    "\n",
    "        \n",
    "# Calculating \"avgECTS_sem_before\" as a new column:\n",
    "def avgECTS_sem_before(df):\n",
    "    for i in range(len(df)):\n",
    "        cum_ects_before_pseudo = df.loc[i, 'cumulated_ects_pos'] - df.loc[i, 'ECTS_year']\n",
    "        if not df.loc[i, 'full_duration_sem_before'] == 0:\n",
    "            df.loc[i, 'avgECTS_sem_before'] = float(cum_ects_before_pseudo) / df.loc[i, 'full_duration_sem_before']\n",
    "        else:\n",
    "            df.loc[i, 'avgECTS_sem_before'] = 0\n",
    "    return df \n",
    "\n",
    "\n",
    "# Calculating \"Studienjahr\" as a new column:\n",
    "def Studienjahr(df):\n",
    "    for i in range(len(df)):\n",
    "        df.loc[i, \"Studienjahr\"] = int((df.loc[i, \"full_duration_sem_before\"]//2) + (df.loc[i, \"full_duration_sem_before\"]%2) + 1)\n",
    "    return df\n",
    "\n",
    "\n",
    "# Deleting row with negative \"years since matura\":\n",
    "def Matura(df):\n",
    "    df.drop(df[df['years_since_matura'] < 0].index, inplace = True)\n",
    "    return df\n",
    "\n",
    "\n",
    "\n",
    "# Calculating \"ECTS_year_before\": (Abschluss bringt nichts; SWS ist egal.)\n",
    "\n",
    "def year(df):\n",
    "    for i in df.index:\n",
    "        num = df.loc[i, 'year'][:2]\n",
    "        df.loc[i, 'year'] = int(num)\n",
    "    return df\n",
    "\n",
    "def ects_year_before(df):  \n",
    "    list_studienjahre = list(df['year'].unique())\n",
    "    list_studienjahre.sort()\n",
    "    for i in list_studienjahre[1:]:\n",
    "        df_year = df.query('year == @i')\n",
    "        df_year0 = df.query('year == (@i-1)')\n",
    "        \n",
    "        for num in df_year.index:\n",
    "            if df_year.loc[num, 'Studienjahr'] > 1:\n",
    "                matr = df_year.loc[num, 'matrikel_num']\n",
    "                if (num-1) in df_year0.index and df_year0.loc[(num-1), 'matrikel_num'] == matr:\n",
    "                    df.loc[num, 'ects_year_before'] = df.loc[(num-1), 'ECTS_year']\n",
    "            \n",
    "    return df\n",
    "\n",
    "\n",
    "# Calculating one-hot-encoding for subject:\n",
    "def subject(df):\n",
    "    for i in range((len(df))):\n",
    "        if df.loc[i, 'subject'] == 'Rechtswissenschaften':\n",
    "            df.loc[i, 'jus_dummy'] = 1\n",
    "            df.loc[i, 'bwl_dummy'] = 0\n",
    "        elif df.loc[i, 'subject'] == 'Betriebswirtschaft':\n",
    "            df.loc[i, 'jus_dummy'] = 0\n",
    "            df.loc[i, 'bwl_dummy'] = 1\n",
    "        else:\n",
    "            df.loc[i, 'jus_dummy'] = 0\n",
    "            df.loc[i, 'bwl_dummy'] = 0\n",
    "    return df\n",
    "\n",
    "\n"
   ]
  },
  {
   "cell_type": "code",
   "execution_count": 5,
   "id": "503196c6",
   "metadata": {},
   "outputs": [],
   "source": [
    "# Functions for saving manipulated DataFrame:\n",
    "\n",
    "def saving(df, name):\n",
    "    df.to_csv(os.path.join(raw_data_folder, name))\n",
    "\n",
    "\n",
    "def data_manipulation_pipeline(df, columns, name, save_or_return): # does manipulations to df and is able to save.\n",
    "    subject(df)\n",
    "    geschlecht(df)\n",
    "    full_duration_sem_before(df)\n",
    "    avgECTS_sem_before(df)\n",
    "    cum_ects_pos_before(df)\n",
    "    Studienjahr(df)\n",
    "    Matura(df)\n",
    "    year(df)\n",
    "    ects_year_before(df)\n",
    "    \n",
    "    \n",
    "    df = df[columns] # hier ordne ich die spalten und verwerfe diejenigen, die ich nicht brauche.\n",
    "    if save_or_return:\n",
    "        saving(df, name) # adapted_data muesste jetzt eine viel kleinere Datei sein.\n",
    "    else:\n",
    "        return df\n",
    "\n",
    "    \n",
    "data_manipulation_pipeline(df, columns, 'adapted_data.csv', True)\n",
    "\n"
   ]
  },
  {
   "cell_type": "code",
   "execution_count": 6,
   "id": "9e04acf5",
   "metadata": {
    "scrolled": true
   },
   "outputs": [],
   "source": [
    "df_working = load_df('adapted_data.csv')[columns] # laden des DataFrames, welches ich tatsaechlich verwende."
   ]
  },
  {
   "cell_type": "markdown",
   "id": "b75b5236",
   "metadata": {},
   "source": [
    "## Graphics:"
   ]
  },
  {
   "cell_type": "code",
   "execution_count": 7,
   "id": "6e2552ea",
   "metadata": {},
   "outputs": [],
   "source": [
    "# Calculation of the distribution of active people:\n",
    "\n",
    "\n",
    "\n",
    "df_bwl = df_working.copy(deep = True).query('subject == \"Betriebswirtschaft\"')\n",
    "\n",
    "def distribution_active(df):  # berechnet den Anteil der aktiven Studierenden an allen Studierenden im Datensatz.\n",
    "    active_num = 0\n",
    "    for student in df['active_dummy']:\n",
    "        if student == 1:\n",
    "            active_num += 1\n",
    "    return active_num/len(df)\n"
   ]
  },
  {
   "cell_type": "code",
   "execution_count": null,
   "id": "88599571",
   "metadata": {},
   "outputs": [],
   "source": []
  },
  {
   "cell_type": "markdown",
   "id": "1efccfe4",
   "metadata": {},
   "source": [
    "## Plotting:\n"
   ]
  },
  {
   "cell_type": "code",
   "execution_count": null,
   "id": "d16510bd",
   "metadata": {},
   "outputs": [],
   "source": [
    "# t = [1,2,3,4,5,6,7,8]\n",
    "# x = []\n",
    "# for studienjahr in t:\n",
    "#     x.append(distribution_active(df2.query('Studienjahr == @studienjahr')))\n",
    "    \n",
    "\n",
    "# plt.plot(t,x)\n",
    "\n",
    "# plt.title('Gesamt')\n",
    "# plt.ylabel('Anteil')\n",
    "# plt.xlabel('Studienjahr')\n",
    "# plt.savefig('ges1.pdf')\n",
    "# plt.show()"
   ]
  },
  {
   "cell_type": "code",
   "execution_count": null,
   "id": "4eba3211",
   "metadata": {},
   "outputs": [],
   "source": []
  },
  {
   "cell_type": "code",
   "execution_count": 156,
   "id": "04def06d",
   "metadata": {},
   "outputs": [],
   "source": [
    "# %matplotlib inline\n",
    "\n",
    "# df2 = df1.copy(deep = True)\n",
    "\n",
    "# from pandas.plotting import scatter_matrix\n",
    "# attributes = [\"ECTS_year\", \"avgECTS_sem_before\", 'Studienjahr', \"ects_year_before\", \"firstGen\", \"num_parallel_studies\"]\n",
    "# scatter_matrix(df2[attributes], figsize=(14,10))\n",
    "\n",
    "# df3 = df1.query('Studienjahr < 9 and subject == \"Rechtswissenschaften\"').copy(deep = True)\n",
    "\n",
    "# x = np.array(df3['Studienjahr'])\n",
    "# y = np.array(df3['ECTS_year'])\n",
    "\n",
    "# plt.hist2d(x,y, bins = 8, cmap = 'plasma')\n",
    "\n",
    "# cb = plt.colorbar()\n",
    "# cb.set_label('Number of entries')\n",
    "\n",
    "# plt.show()"
   ]
  },
  {
   "cell_type": "code",
   "execution_count": 145,
   "id": "69d62398",
   "metadata": {},
   "outputs": [
    {
     "data": {
      "image/png": "[encoded data removed]",
      "text/plain": [
       "<Figure size 432x288 with 1 Axes>"
      ]
     },
     "metadata": {
      "needs_background": "light"
     },
     "output_type": "display_data"
    }
   ],
   "source": [
    "# t = [2015,2016,2017,2018,2019]\n",
    "# x = []\n",
    "# y = []\n",
    "\n",
    "# for year in [15,16,17,18,19]:\n",
    "#     df_trial = df2.query('year == @year and active_dummy == 1')\n",
    "#     x.append(len(df_trial.query('Studienjahr >= 4'))/len(df_trial))\n",
    "#     y.append(len(df_trial.query('Studienjahr < 4'))/len(df_trial))\n",
    "    \n",
    "\n",
    "# plt.plot(t,x, label='Altbestand')\n",
    "# plt.plot(t,y, label='Neubestand')\n",
    "\n",
    "# plt.title('Gesamt')\n",
    "# plt.ylabel('Anteil')\n",
    "# plt.xlabel('Kalenderjahr')\n",
    "# plt.legend()\n",
    "# plt.savefig('ges2.pdf')\n",
    "# plt.show()\n"
   ]
  },
  {
   "cell_type": "code",
   "execution_count": 146,
   "id": "285e8a5a",
   "metadata": {},
   "outputs": [
    {
     "data": {
      "image/png": "[encoded data removed]",
      "text/plain": [
       "<Figure size 432x288 with 1 Axes>"
      ]
     },
     "metadata": {
      "needs_background": "light"
     },
     "output_type": "display_data"
    }
   ],
   "source": [
    "# t = [2015,2016,2017,2018,2019]\n",
    "# x = []\n",
    "\n",
    "# for year in [15,16,17,18,19]:\n",
    "#     x.append(len(df2.query('year == @year and Studienjahr == 1')))\n",
    "    \n",
    "# plt.plot(t,x)\n",
    "\n",
    "# plt.title('Gesamt')\n",
    "# plt.ylabel('Studienbeginner')\n",
    "# plt.xlabel('Kalenderjahr')\n",
    "# plt.savefig('ges3.pdf')\n",
    "# plt.show()\n"
   ]
  },
  {
   "cell_type": "code",
   "execution_count": 205,
   "id": "c2459565",
   "metadata": {},
   "outputs": [
    {
     "data": {
      "image/png": "[encoded data removed]",
      "text/plain": [
       "<Figure size 432x288 with 1 Axes>"
      ]
     },
     "metadata": {
      "needs_background": "light"
     },
     "output_type": "display_data"
    }
   ],
   "source": [
    "# t = [2015,2016,2017,2018,2019]\n",
    "# x = []\n",
    "\n",
    "# for year in [15,16,17,18,19]:\n",
    "#     x.append(len(df2.query('year == @year and active_dummy == 1')))\n",
    "    \n",
    "# plt.plot(t,x)\n",
    "    \n",
    "# plt.title('Betriebswirtschaft')\n",
    "# plt.ylabel('prüfungsaktive Studierende')\n",
    "# plt.xlabel('Kalenderjahr')\n",
    "# plt.savefig('bwl4.pdf')\n",
    "# plt.show()"
   ]
  },
  {
   "cell_type": "code",
   "execution_count": 200,
   "id": "58d9609f",
   "metadata": {},
   "outputs": [
    {
     "data": {
      "image/png": "[encoded data removed]",
      "text/plain": [
       "<Figure size 432x288 with 1 Axes>"
      ]
     },
     "metadata": {
      "needs_background": "light"
     },
     "output_type": "display_data"
    }
   ],
   "source": [
    "# t = [2015,2016,2017,2018,2019]\n",
    "# x = []\n",
    "\n",
    "# for year in [15,16,17,18,19]:\n",
    "#     x.append(distribution_active(df2.query('year == @year')))\n",
    "    \n",
    "# plt.plot(t,x)\n",
    "    \n",
    "# plt.title('Gesamt')\n",
    "# plt.ylabel('Anteil prüfungsaktive Studierende')\n",
    "# plt.xlabel('Kalenderjahr')\n",
    "# plt.savefig('ges5.pdf')\n",
    "# plt.show()"
   ]
  },
  {
   "cell_type": "code",
   "execution_count": 147,
   "id": "4790a962",
   "metadata": {},
   "outputs": [],
   "source": [
    "# df1.loc[20650] # Joni"
   ]
  },
  {
   "cell_type": "code",
   "execution_count": 148,
   "id": "4e1f547b",
   "metadata": {},
   "outputs": [],
   "source": [
    "# df5 = df1.query('matrikel_num == 1411689', inplace = False) # Joni\n",
    "# df5"
   ]
  },
  {
   "cell_type": "markdown",
   "id": "8bbb15fb",
   "metadata": {},
   "source": [
    "# Splitting the Dataframe in different parts:\n"
   ]
  },
  {
   "cell_type": "code",
   "execution_count": 149,
   "id": "d6aa643e",
   "metadata": {},
   "outputs": [],
   "source": [
    "def split(df, column):\n",
    "    grouped = df.groupby([column])\n",
    "    return_list = []\n",
    "    for i in df[column].unique():\n",
    "        return_list.append(grouped.get_group(i).reset_index(drop = True))\n",
    "    return return_list\n",
    "\n",
    "\n",
    "list_subject = split(df1, 'subject')\n",
    "list_year = split(df1, 'year')\n",
    "list_studienjahr = split(df1, 'Studienjahr')\n",
    "\n"
   ]
  },
  {
   "cell_type": "code",
   "execution_count": 150,
   "id": "854a54b9",
   "metadata": {
    "scrolled": true
   },
   "outputs": [
    {
     "data": {
      "text/plain": [
       "<AxesSubplot:ylabel='Frequency'>"
      ]
     },
     "execution_count": 150,
     "metadata": {},
     "output_type": "execute_result"
    },
    {
     "data": {
      "image/png": "[encoded data removed]",
      "text/plain": [
       "<Figure size 432x288 with 1 Axes>"
      ]
     },
     "metadata": {
      "needs_background": "light"
     },
     "output_type": "display_data"
    }
   ],
   "source": [
    "df1['ECTS_year'].plot.hist(bins = 100, density = True)"
   ]
  },
  {
   "cell_type": "code",
   "execution_count": 151,
   "id": "fc874f5f",
   "metadata": {},
   "outputs": [],
   "source": [
    "# for df in list_year:\n",
    "#     print(df['year'][0])\n",
    "#     plt.hist(df['ECTS_year'], bins = 30)\n",
    "#     plt.show()"
   ]
  },
  {
   "cell_type": "code",
   "execution_count": 152,
   "id": "9937a6de",
   "metadata": {},
   "outputs": [],
   "source": [
    "# for df in list_studienjahr:\n",
    "#     print(df['Studienjahr'][0])\n",
    "#     plt.hist(df['ECTS_year'], bins = 30)\n",
    "#     plt.show()"
   ]
  },
  {
   "cell_type": "code",
   "execution_count": 153,
   "id": "5562ec71",
   "metadata": {},
   "outputs": [],
   "source": [
    "# for df in list_subject:\n",
    "#     print(df['subject'][0])\n",
    "#     x = df['ECTS_year']\n",
    "#     plt.hist(x, bins = 30, density = True)\n",
    "#     plt.show()"
   ]
  },
  {
   "cell_type": "code",
   "execution_count": null,
   "id": "8dc735bd",
   "metadata": {},
   "outputs": [],
   "source": []
  },
  {
   "cell_type": "code",
   "execution_count": 154,
   "id": "22e1ac80",
   "metadata": {},
   "outputs": [
    {
     "data": {
      "text/plain": [
       "Rechtswissenschaften    20472\n",
       "Padagogik               10850\n",
       "Betriebswirtschaft       8620\n",
       "Name: subject, dtype: int64"
      ]
     },
     "execution_count": 154,
     "metadata": {},
     "output_type": "execute_result"
    }
   ],
   "source": [
    "a = df1['subject'] # Series object\n",
    "a.value_counts(dropna = False)"
   ]
  },
  {
   "cell_type": "markdown",
   "id": "31d4c98d",
   "metadata": {},
   "source": [
    "## Building Dataframe for test of BIG MODELS: (Contaminated)\n",
    "\n",
    "- Here I have a dataset, which contains pupils, which are studying for at least 4 years in a row."
   ]
  },
  {
   "cell_type": "code",
   "execution_count": 155,
   "id": "59ece3a8",
   "metadata": {},
   "outputs": [],
   "source": [
    "df1 = load_df('adapted_data.csv')[columns]\n",
    "\n",
    "df_a = df1.query('Studienjahr == 1')\n",
    "df_b = df1.query('Studienjahr > 1 and ects_year_before > 0')\n",
    "\n",
    "df1 = pd.concat([df_a, df_b]) \n",
    "\n",
    "\n",
    "list_subjects = split(df1, 'subject')\n",
    "\n",
    "\n",
    "result_list = []\n",
    "for df in list_subjects:\n",
    "    df = df.drop_duplicates(['matrikel_num', 'Studienjahr'])\n",
    "    clear_df = pd.concat(g for _, g in df.groupby(['matrikel_num', 'planned_duration']) if len(g) > 3)\n",
    "    result_list.append(clear_df)\n",
    "    \n",
    "df_pretty = pd.concat(df for df in result_list)\n",
    "\n",
    "groups = df_pretty.groupby('matrikel_num')\n",
    "list_of_students = [] # list von df's, wobei jedes df einen Studenten oder eine Studentin ueber mehrere Jahre hinweg beschreibt.\n",
    "\n",
    "for i in df_pretty['matrikel_num'].drop_duplicates():\n",
    "    list_of_students.append(groups.get_group(i))\n",
    "    \n",
    "len(list_of_students)\n",
    "\n",
    "\n",
    "saving(df_pretty, 'df_pretty.csv')"
   ]
  },
  {
   "cell_type": "code",
   "execution_count": null,
   "id": "3a6fc8cf",
   "metadata": {},
   "outputs": [],
   "source": []
  },
  {
   "cell_type": "code",
   "execution_count": null,
   "id": "4666ba27",
   "metadata": {},
   "outputs": [],
   "source": []
  },
  {
   "cell_type": "code",
   "execution_count": null,
   "id": "45dd8788",
   "metadata": {},
   "outputs": [],
   "source": []
  }
 ],
 "metadata": {
  "kernelspec": {
   "display_name": "Python 3",
   "language": "python",
   "name": "python3"
  },
  "language_info": {
   "codemirror_mode": {
    "name": "ipython",
    "version": 3
   },
   "file_extension": ".py",
   "mimetype": "text/x-python",
   "name": "python",
   "nbconvert_exporter": "python",
   "pygments_lexer": "ipython3",
   "version": "3.8.10"
  }
 },
 "nbformat": 4,
 "nbformat_minor": 5
}
