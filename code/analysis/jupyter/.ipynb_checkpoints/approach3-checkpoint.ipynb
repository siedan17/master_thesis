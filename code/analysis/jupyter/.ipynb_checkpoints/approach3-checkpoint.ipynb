{
 "cells": [
  {
   "cell_type": "markdown",
   "id": "b73ef503",
   "metadata": {},
   "source": [
    "# APPROACH 3"
   ]
  },
  {
   "cell_type": "code",
   "execution_count": 1,
   "id": "c682d180",
   "metadata": {},
   "outputs": [],
   "source": [
    "import sys\n",
    "import os\n",
    "import random as rd\n",
    "\n",
    "import numpy as np\n",
    "import pandas as pd\n",
    "import matplotlib.pyplot as plt\n",
    "import seaborn as sns\n",
    "\n",
    "import sklearn\n",
    "from sklearn.metrics import mean_squared_error\n",
    "from sklearn.model_selection import StratifiedShuffleSplit\n",
    "# from sklearn.pipeline import Pipeline\n",
    "from sklearn.preprocessing import StandardScaler\n",
    "from sklearn.model_selection import cross_val_predict\n",
    "from sklearn.model_selection import cross_val_score\n",
    "from sklearn.metrics import confusion_matrix, precision_score, recall_score, f1_score, precision_recall_curve\n",
    "\n",
    "import tensorflow as tf\n",
    "from tensorflow import keras\n",
    "\n",
    "\n",
    "raw_data_folder = os.path.abspath('/home/siedan/programming/masterarbeit/code/analysis/raw_data')\n",
    "\n",
    "def load_df(name):\n",
    "    return pd.read_csv(os.path.join(raw_data_folder, name))\n",
    "\n",
    "df = load_df('adapted_data.csv').drop(['Unnamed: 0'], axis =1)\n",
    "\n",
    "features_year1 = ['styria_dummy', 'not_styria_dummy', 'germany_dummy',\n",
    "                  'num_parallel_studies', 'years_since_matura', 'firstGen',\n",
    "                  'geschlecht', 'AHS_dummy', 'BHS_dummy', 'ausland_vorbildung_dummy',\n",
    "                  'sonstige_vorbildung_dummy', 'jus_dummy', 'bwl_dummy',\n",
    "                  'delayed_dummy','active_3years', 'ECTS_year', 'active_dummy']\n",
    "\n",
    "features_years = ['Studienjahr', 'styria_dummy', 'not_styria_dummy', 'germany_dummy',\n",
    "                  'num_parallel_studies', 'cum_ects_pos_before', 'avgECTS_sem_before', 'ects_year_before',\n",
    "                  'full_duration_sem_before', 'geschlecht', 'years_since_matura', 'firstGen', 'AHS_dummy',\n",
    "                  'BHS_dummy', 'ausland_vorbildung_dummy', 'sonstige_vorbildung_dummy', 'delayed_dummy',\n",
    "                  'jus_dummy', 'bwl_dummy', 'active_3years', 'ECTS_year', 'active_dummy']\n",
    "\n",
    "scaler = StandardScaler()"
   ]
  },
  {
   "cell_type": "markdown",
   "id": "804f69e4",
   "metadata": {},
   "source": [
    "## Daten:\n"
   ]
  },
  {
   "cell_type": "code",
   "execution_count": 2,
   "id": "83e88cbe",
   "metadata": {},
   "outputs": [],
   "source": [
    "df_test = df.copy(deep = True)"
   ]
  },
  {
   "cell_type": "code",
   "execution_count": 3,
   "id": "030b955d",
   "metadata": {},
   "outputs": [
    {
     "data": {
      "text/plain": [
       "0        0\n",
       "3        0\n",
       "6        0\n",
       "7        0\n",
       "14       0\n",
       "        ..\n",
       "34288    0\n",
       "34289    0\n",
       "34290    0\n",
       "34294    0\n",
       "34295    0\n",
       "Name: active_3years, Length: 17520, dtype: int64"
      ]
     },
     "execution_count": 3,
     "metadata": {},
     "output_type": "execute_result"
    }
   ],
   "source": [
    "def active_3years(df):\n",
    "    df['active_3years'] = 0\n",
    "    for i in range(len(df)):\n",
    "        \n",
    "        matrikel_number = df.loc[i, 'matrikel_num']\n",
    "        studienjahr = df.loc[i, 'Studienjahr'] + 2\n",
    "        jus_dummy = df.loc[i, 'jus_dummy']\n",
    "        bwl_dummy = df.loc[i, 'bwl_dummy']\n",
    "        \n",
    "        student3 = df.query('matrikel_num == @matrikel_number and Studienjahr == @studienjahr and jus_dummy == @jus_dummy and bwl_dummy == @bwl_dummy').reset_index(drop = True)\n",
    "\n",
    "        if len(student3) != 0:\n",
    "            active = student3.loc[0, 'active_dummy']\n",
    "            df.loc[i, 'active_3years'] = active\n",
    "            \n",
    "    return df\n",
    "\n",
    "\n",
    "\n",
    "df_new = active_3years(df_test).query('year <= 16')\n",
    "df_new['active_3years'].fillna(0)\n"
   ]
  },
  {
   "cell_type": "code",
   "execution_count": null,
   "id": "e1c28db0",
   "metadata": {},
   "outputs": [],
   "source": []
  },
  {
   "cell_type": "code",
   "execution_count": null,
   "id": "2d869a8e",
   "metadata": {},
   "outputs": [],
   "source": []
  },
  {
   "cell_type": "code",
   "execution_count": 4,
   "id": "d93034d7",
   "metadata": {},
   "outputs": [],
   "source": [
    "df1 = df_new.query('Studienjahr == 1').copy(deep = True)\n",
    "df2 = df_new.query('Studienjahr > 1').copy(deep = True)\n"
   ]
  },
  {
   "cell_type": "code",
   "execution_count": null,
   "id": "c62e3700",
   "metadata": {},
   "outputs": [],
   "source": []
  },
  {
   "cell_type": "markdown",
   "id": "ad64d462",
   "metadata": {},
   "source": [
    "## Modelle:\n"
   ]
  },
  {
   "cell_type": "code",
   "execution_count": 5,
   "id": "283adcca",
   "metadata": {},
   "outputs": [
    {
     "name": "stdout",
     "output_type": "stream",
     "text": [
      "3137\n",
      "2919\n"
     ]
    }
   ],
   "source": [
    "def create_data1(df):\n",
    "    df = df.query('Studienjahr == 1')[features_year1].copy(deep = True)\n",
    "    df = df.dropna().reset_index(drop = True)\n",
    "    split = StratifiedShuffleSplit(n_splits = 1, test_size = 0.1, random_state = 42)\n",
    "    for train_index, test_index in split.split(df, df['active_3years']):\n",
    "        df_train = df.loc[train_index, :]\n",
    "        df_test = df.loc[test_index, :]\n",
    "    df_train_copy = df_train.copy(deep = True)\n",
    "    y_train = list(df_train['active_3years'])\n",
    "    y_test = list(df_test['active_3years'])\n",
    "    df_train = scaler.fit_transform(df_train.drop(['active_3years', 'ECTS_year', 'active_dummy'], axis = 1))\n",
    "    df_test = scaler.fit_transform(df_test.drop(['active_3years', 'ECTS_year', 'active_dummy'], axis = 1))\n",
    "    return df_train, y_train, df_test, y_test, df_train_copy\n",
    "\n",
    "def create_data2(df):\n",
    "    df = df.query('Studienjahr > 1')[features_years].copy(deep = True)\n",
    "    df = df.dropna().reset_index(drop = True)\n",
    "    split = StratifiedShuffleSplit(n_splits = 1, test_size = 0.1, random_state = 42)\n",
    "    for train_index, test_index in split.split(df, df['active_3years']):\n",
    "        \n",
    "        df_train = df.loc[train_index, :]\n",
    "        df_test = df.loc[test_index, :]\n",
    "    df_train_copy = df_train.copy(deep = True)\n",
    "    y_train = list(df_train['active_3years'])\n",
    "    y_test = list(df_test['active_3years'])\n",
    "    df_train = scaler.fit_transform(df_train.drop(['active_3years', 'ECTS_year', 'active_dummy'], axis = 1))\n",
    "    df_test = scaler.fit_transform(df_test.drop(['active_3years', 'ECTS_year', 'active_dummy'], axis = 1))\n",
    "    return df_train, y_train, df_test, y_test, df_train_copy\n",
    "\n",
    "\n",
    "df1_train, y1_train, df1_test, y1_test, df1_train_copy = create_data1(df_new)\n",
    "df2_train, y2_train, df2_test, y2_test, df2_train_copy = create_data2(df_new)\n",
    "\n",
    "print(len(df1_train))\n",
    "print(len(df2_train))"
   ]
  },
  {
   "cell_type": "code",
   "execution_count": 6,
   "id": "76948486",
   "metadata": {},
   "outputs": [],
   "source": [
    "def perform_classification(classifier, df, labels):\n",
    "    df = df.copy()\n",
    "    print('#####')\n",
    "    print(cross_val_score(classifier, df, labels, cv=3, scoring='accuracy'))\n",
    "    predicted = cross_val_predict(classifier, df, labels, cv=3)\n",
    "    matrix = confusion_matrix(labels, predicted)\n",
    "    print(matrix)\n",
    "    plt.matshow(matrix, cmap=plt.cm.gray)\n",
    "    plt.show()  \n",
    "    row_sums = matrix.sum(axis=1, keepdims=True)\n",
    "    norm_matrix = matrix / row_sums\n",
    "    np.fill_diagonal(norm_matrix, 0)\n",
    "    plt.matshow(norm_matrix, cmap=plt.cm.gray)\n",
    "    plt.show()    \n",
    "    print('#####')\n",
    "    return\n",
    "\n",
    "def perform_probability_classification(classifier, df_train, y_train, df_test, y_test):\n",
    "    classifier = sklearn.base.clone(classifier)\n",
    "    classifier.fit(df_train, y_train)\n",
    "    probabilities = classifier.predict_proba(df_test)[:,1]\n",
    "    for i in range(len(probabilities)):\n",
    "        num = rd.random()\n",
    "        if probabilities[i] >= num:\n",
    "            probabilities[i] = 1\n",
    "        else:\n",
    "            probabilities[i] = 0\n",
    "            \n",
    "    print('#####')\n",
    "    matrix = confusion_matrix(y_test, probabilities)\n",
    "    print(matrix)\n",
    "    plt.matshow(matrix, cmap=plt.cm.gray)\n",
    "    plt.show()  \n",
    "    row_sums = matrix.sum(axis=1, keepdims=True)\n",
    "    norm_matrix = matrix / row_sums\n",
    "    np.fill_diagonal(norm_matrix, 0)\n",
    "    plt.matshow(norm_matrix, cmap=plt.cm.gray)\n",
    "    plt.show()    \n",
    "    print('#####')\n",
    "    \n",
    "def probability_classification(classifier, df_train, y_train, df_test, y_test):\n",
    "    classifier = sklearn.base.clone(classifier)\n",
    "    classifier.fit(df_train, y_train)\n",
    "    probabilities = classifier.predict_proba(df_test)[:,1]\n",
    "    prediction = np.sum(probabilities)\n",
    "    real_value = np.sum(y_train)\n",
    "    print('Prediction: ' + str(prediction) + 'vs. Real percentage: ' + str(real_value))\n",
    "\n",
    "# print(precision_score(y1_train, y1_train_predicted))\n",
    "# print(recall_score(y1_train, y1_train_predicted))\n",
    "# print(f1_score(y1_train, y1_train_predicted))"
   ]
  },
  {
   "cell_type": "markdown",
   "id": "f8f67482",
   "metadata": {},
   "source": [
    "### Logistic Regression: \n"
   ]
  },
  {
   "cell_type": "code",
   "execution_count": 7,
   "id": "cdc29f43",
   "metadata": {},
   "outputs": [
    {
     "name": "stdout",
     "output_type": "stream",
     "text": [
      "#####\n",
      "[[141  79]\n",
      " [ 74  55]]\n"
     ]
    },
    {
     "data": {
      "image/png": "[encoded data removed]",
      "text/plain": [
       "<Figure size 288x288 with 1 Axes>"
      ]
     },
     "metadata": {
      "needs_background": "light"
     },
     "output_type": "display_data"
    },
    {
     "data": {
      "image/png": "[encoded data removed]",
      "text/plain": [
       "<Figure size 288x288 with 1 Axes>"
      ]
     },
     "metadata": {
      "needs_background": "light"
     },
     "output_type": "display_data"
    },
    {
     "name": "stdout",
     "output_type": "stream",
     "text": [
      "#####\n",
      "#####\n",
      "[[137  67]\n",
      " [ 63  58]]\n"
     ]
    },
    {
     "data": {
      "image/png": "[encoded data removed]",
      "text/plain": [
       "<Figure size 288x288 with 1 Axes>"
      ]
     },
     "metadata": {
      "needs_background": "light"
     },
     "output_type": "display_data"
    },
    {
     "data": {
      "image/png": "[encoded data removed]",
      "text/plain": [
       "<Figure size 288x288 with 1 Axes>"
      ]
     },
     "metadata": {
      "needs_background": "light"
     },
     "output_type": "display_data"
    },
    {
     "name": "stdout",
     "output_type": "stream",
     "text": [
      "#####\n",
      "#####\n",
      "[0.63288719 0.60898662 0.62870813]\n",
      "[[1933   40]\n",
      " [1141   23]]\n"
     ]
    },
    {
     "data": {
      "image/png": "[encoded data removed]",
      "text/plain": [
       "<Figure size 288x288 with 1 Axes>"
      ]
     },
     "metadata": {
      "needs_background": "light"
     },
     "output_type": "display_data"
    },
    {
     "data": {
      "image/png": "[encoded data removed]",
      "text/plain": [
       "<Figure size 288x288 with 1 Axes>"
      ]
     },
     "metadata": {
      "needs_background": "light"
     },
     "output_type": "display_data"
    },
    {
     "name": "stdout",
     "output_type": "stream",
     "text": [
      "#####\n",
      "#####\n",
      "[0.70811922 0.70092497 0.69578623]\n",
      "[[1527  309]\n",
      " [ 562  521]]\n"
     ]
    },
    {
     "data": {
      "image/png": "[encoded data removed]",
      "text/plain": [
       "<Figure size 288x288 with 1 Axes>"
      ]
     },
     "metadata": {
      "needs_background": "light"
     },
     "output_type": "display_data"
    },
    {
     "data": {
      "image/png": "[encoded data removed]",
      "text/plain": [
       "<Figure size 288x288 with 1 Axes>"
      ]
     },
     "metadata": {
      "needs_background": "light"
     },
     "output_type": "display_data"
    },
    {
     "name": "stdout",
     "output_type": "stream",
     "text": [
      "#####\n"
     ]
    }
   ],
   "source": [
    "from sklearn.linear_model import LogisticRegression\n",
    "\n",
    "log_clf1 = LogisticRegression(random_state=0, multi_class = 'multinomial')\n",
    "log_clf2 = LogisticRegression(random_state=0, multi_class = 'multinomial')\n",
    "\n",
    "perform_probability_classification(log_clf1, df1_train, y1_train, df1_test, y1_test)\n",
    "perform_probability_classification(log_clf2, df2_train, y2_train, df2_test, y2_test)\n",
    "\n",
    "\n",
    "perform_classification(log_clf1, df1_train, y1_train)\n",
    "perform_classification(log_clf2, df2_train, y2_train)"
   ]
  },
  {
   "cell_type": "markdown",
   "id": "0f32ee9f",
   "metadata": {},
   "source": [
    "### Neuronale Netzwerke:"
   ]
  },
  {
   "cell_type": "code",
   "execution_count": 8,
   "id": "090d3a25",
   "metadata": {},
   "outputs": [
    {
     "name": "stdout",
     "output_type": "stream",
     "text": [
      "Epoch 1/35\n",
      "89/89 [==============================] - 1s 5ms/step - loss: 0.6650 - accuracy: 0.6181 - val_loss: 0.6593 - val_accuracy: 0.6178\n",
      "Epoch 2/35\n",
      "89/89 [==============================] - 0s 3ms/step - loss: 0.6574 - accuracy: 0.6302 - val_loss: 0.6595 - val_accuracy: 0.6051\n",
      "Epoch 3/35\n",
      "89/89 [==============================] - 0s 3ms/step - loss: 0.6532 - accuracy: 0.6320 - val_loss: 0.6594 - val_accuracy: 0.6051\n",
      "Epoch 4/35\n",
      "89/89 [==============================] - 0s 3ms/step - loss: 0.6499 - accuracy: 0.6312 - val_loss: 0.6596 - val_accuracy: 0.6115\n",
      "Epoch 5/35\n",
      "89/89 [==============================] - 0s 3ms/step - loss: 0.6479 - accuracy: 0.6337 - val_loss: 0.6594 - val_accuracy: 0.6115\n",
      "Epoch 6/35\n",
      "89/89 [==============================] - 0s 3ms/step - loss: 0.6460 - accuracy: 0.6334 - val_loss: 0.6606 - val_accuracy: 0.6115\n",
      "Epoch 7/35\n",
      "89/89 [==============================] - 0s 3ms/step - loss: 0.6446 - accuracy: 0.6337 - val_loss: 0.6611 - val_accuracy: 0.6115\n",
      "Epoch 8/35\n",
      "89/89 [==============================] - 0s 3ms/step - loss: 0.6432 - accuracy: 0.6337 - val_loss: 0.6608 - val_accuracy: 0.6115\n",
      "Epoch 9/35\n",
      "89/89 [==============================] - 0s 3ms/step - loss: 0.6420 - accuracy: 0.6327 - val_loss: 0.6605 - val_accuracy: 0.6146\n",
      "Epoch 10/35\n",
      "89/89 [==============================] - 0s 3ms/step - loss: 0.6410 - accuracy: 0.6305 - val_loss: 0.6606 - val_accuracy: 0.6146\n",
      "Epoch 11/35\n",
      "89/89 [==============================] - 0s 3ms/step - loss: 0.6401 - accuracy: 0.6298 - val_loss: 0.6611 - val_accuracy: 0.6146\n",
      "Epoch 12/35\n",
      "89/89 [==============================] - 0s 3ms/step - loss: 0.6391 - accuracy: 0.6302 - val_loss: 0.6624 - val_accuracy: 0.6115\n",
      "Epoch 13/35\n",
      "89/89 [==============================] - 0s 3ms/step - loss: 0.6383 - accuracy: 0.6320 - val_loss: 0.6624 - val_accuracy: 0.6146\n",
      "Epoch 14/35\n",
      "89/89 [==============================] - 0s 3ms/step - loss: 0.6377 - accuracy: 0.6312 - val_loss: 0.6628 - val_accuracy: 0.6146\n",
      "Epoch 15/35\n",
      "89/89 [==============================] - 0s 3ms/step - loss: 0.6370 - accuracy: 0.6305 - val_loss: 0.6630 - val_accuracy: 0.6146\n",
      "Epoch 16/35\n",
      "89/89 [==============================] - 0s 3ms/step - loss: 0.6363 - accuracy: 0.6320 - val_loss: 0.6638 - val_accuracy: 0.6115\n",
      "Epoch 17/35\n",
      "89/89 [==============================] - 0s 3ms/step - loss: 0.6357 - accuracy: 0.6320 - val_loss: 0.6631 - val_accuracy: 0.6146\n",
      "Epoch 18/35\n",
      "89/89 [==============================] - 0s 3ms/step - loss: 0.6353 - accuracy: 0.6330 - val_loss: 0.6623 - val_accuracy: 0.6178\n",
      "Epoch 19/35\n",
      "89/89 [==============================] - 0s 3ms/step - loss: 0.6347 - accuracy: 0.6341 - val_loss: 0.6622 - val_accuracy: 0.6178\n",
      "Epoch 20/35\n",
      "89/89 [==============================] - 0s 3ms/step - loss: 0.6341 - accuracy: 0.6351 - val_loss: 0.6629 - val_accuracy: 0.6146\n",
      "Epoch 21/35\n",
      "89/89 [==============================] - 0s 3ms/step - loss: 0.6337 - accuracy: 0.6351 - val_loss: 0.6633 - val_accuracy: 0.6115\n",
      "Epoch 22/35\n",
      "89/89 [==============================] - 0s 3ms/step - loss: 0.6330 - accuracy: 0.6330 - val_loss: 0.6622 - val_accuracy: 0.6115\n",
      "Epoch 23/35\n",
      "89/89 [==============================] - 0s 3ms/step - loss: 0.6327 - accuracy: 0.6369 - val_loss: 0.6640 - val_accuracy: 0.6115\n",
      "Epoch 24/35\n",
      "89/89 [==============================] - 0s 3ms/step - loss: 0.6321 - accuracy: 0.6362 - val_loss: 0.6628 - val_accuracy: 0.6083\n",
      "Epoch 25/35\n",
      "89/89 [==============================] - 0s 3ms/step - loss: 0.6316 - accuracy: 0.6401 - val_loss: 0.6629 - val_accuracy: 0.6083\n",
      "Epoch 26/35\n",
      "89/89 [==============================] - 0s 3ms/step - loss: 0.6311 - accuracy: 0.6358 - val_loss: 0.6634 - val_accuracy: 0.6083\n",
      "Epoch 27/35\n",
      "89/89 [==============================] - 0s 3ms/step - loss: 0.6308 - accuracy: 0.6366 - val_loss: 0.6617 - val_accuracy: 0.5955\n",
      "Epoch 28/35\n",
      "89/89 [==============================] - 0s 3ms/step - loss: 0.6303 - accuracy: 0.6383 - val_loss: 0.6622 - val_accuracy: 0.6115\n",
      "Epoch 29/35\n",
      "89/89 [==============================] - 0s 3ms/step - loss: 0.6297 - accuracy: 0.6401 - val_loss: 0.6616 - val_accuracy: 0.5892\n",
      "Epoch 30/35\n",
      "89/89 [==============================] - 0s 3ms/step - loss: 0.6295 - accuracy: 0.6426 - val_loss: 0.6620 - val_accuracy: 0.6115\n",
      "Epoch 31/35\n",
      "89/89 [==============================] - 0s 3ms/step - loss: 0.6290 - accuracy: 0.6419 - val_loss: 0.6633 - val_accuracy: 0.6083\n",
      "Epoch 32/35\n",
      "89/89 [==============================] - 0s 3ms/step - loss: 0.6286 - accuracy: 0.6405 - val_loss: 0.6632 - val_accuracy: 0.6083\n",
      "Epoch 33/35\n",
      "89/89 [==============================] - 0s 3ms/step - loss: 0.6281 - accuracy: 0.6415 - val_loss: 0.6622 - val_accuracy: 0.6051\n",
      "Epoch 34/35\n",
      "89/89 [==============================] - 0s 3ms/step - loss: 0.6276 - accuracy: 0.6429 - val_loss: 0.6617 - val_accuracy: 0.6051\n",
      "Epoch 35/35\n",
      "89/89 [==============================] - 0s 3ms/step - loss: 0.6274 - accuracy: 0.6433 - val_loss: 0.6640 - val_accuracy: 0.6083\n",
      "Epoch 1/35\n",
      "83/83 [==============================] - 1s 5ms/step - loss: 0.6730 - accuracy: 0.5801 - val_loss: 0.6495 - val_accuracy: 0.6370\n",
      "Epoch 2/35\n",
      "83/83 [==============================] - 0s 3ms/step - loss: 0.6470 - accuracy: 0.6220 - val_loss: 0.6364 - val_accuracy: 0.6404\n",
      "Epoch 3/35\n",
      "83/83 [==============================] - 0s 3ms/step - loss: 0.6356 - accuracy: 0.6300 - val_loss: 0.6269 - val_accuracy: 0.6404\n",
      "Epoch 4/35\n",
      "83/83 [==============================] - 0s 3ms/step - loss: 0.6262 - accuracy: 0.6407 - val_loss: 0.6204 - val_accuracy: 0.6712\n",
      "Epoch 5/35\n",
      "83/83 [==============================] - 0s 3ms/step - loss: 0.6173 - accuracy: 0.6665 - val_loss: 0.6140 - val_accuracy: 0.6918\n",
      "Epoch 6/35\n",
      "83/83 [==============================] - 0s 3ms/step - loss: 0.6092 - accuracy: 0.6791 - val_loss: 0.6086 - val_accuracy: 0.6952\n",
      "Epoch 7/35\n",
      "83/83 [==============================] - 0s 3ms/step - loss: 0.6014 - accuracy: 0.6909 - val_loss: 0.6034 - val_accuracy: 0.7089\n",
      "Epoch 8/35\n",
      "83/83 [==============================] - 0s 3ms/step - loss: 0.5937 - accuracy: 0.7050 - val_loss: 0.5983 - val_accuracy: 0.7123\n",
      "Epoch 9/35\n",
      "83/83 [==============================] - 0s 3ms/step - loss: 0.5862 - accuracy: 0.7115 - val_loss: 0.5919 - val_accuracy: 0.7226\n",
      "Epoch 10/35\n",
      "83/83 [==============================] - 0s 3ms/step - loss: 0.5783 - accuracy: 0.7137 - val_loss: 0.5863 - val_accuracy: 0.7295\n",
      "Epoch 11/35\n",
      "83/83 [==============================] - 0s 3ms/step - loss: 0.5707 - accuracy: 0.7175 - val_loss: 0.5810 - val_accuracy: 0.7295\n",
      "Epoch 12/35\n",
      "83/83 [==============================] - 0s 3ms/step - loss: 0.5633 - accuracy: 0.7221 - val_loss: 0.5783 - val_accuracy: 0.7295\n",
      "Epoch 13/35\n",
      "83/83 [==============================] - 0s 3ms/step - loss: 0.5561 - accuracy: 0.7252 - val_loss: 0.5694 - val_accuracy: 0.7397\n",
      "Epoch 14/35\n",
      "83/83 [==============================] - 0s 3ms/step - loss: 0.5498 - accuracy: 0.7267 - val_loss: 0.5654 - val_accuracy: 0.7397\n",
      "Epoch 15/35\n",
      "83/83 [==============================] - 0s 3ms/step - loss: 0.5429 - accuracy: 0.7274 - val_loss: 0.5624 - val_accuracy: 0.7329\n",
      "Epoch 16/35\n",
      "83/83 [==============================] - 0s 3ms/step - loss: 0.5368 - accuracy: 0.7347 - val_loss: 0.5595 - val_accuracy: 0.7295\n",
      "Epoch 17/35\n",
      "83/83 [==============================] - 0s 3ms/step - loss: 0.5310 - accuracy: 0.7332 - val_loss: 0.5531 - val_accuracy: 0.7329\n",
      "Epoch 18/35\n",
      "83/83 [==============================] - 0s 3ms/step - loss: 0.5250 - accuracy: 0.7351 - val_loss: 0.5478 - val_accuracy: 0.7500\n",
      "Epoch 19/35\n",
      "83/83 [==============================] - 0s 3ms/step - loss: 0.5192 - accuracy: 0.7385 - val_loss: 0.5440 - val_accuracy: 0.7432\n",
      "Epoch 20/35\n",
      "83/83 [==============================] - 0s 3ms/step - loss: 0.5141 - accuracy: 0.7373 - val_loss: 0.5441 - val_accuracy: 0.7466\n",
      "Epoch 21/35\n",
      "83/83 [==============================] - 0s 3ms/step - loss: 0.5092 - accuracy: 0.7400 - val_loss: 0.5397 - val_accuracy: 0.7500\n",
      "Epoch 22/35\n",
      "83/83 [==============================] - 0s 3ms/step - loss: 0.5047 - accuracy: 0.7427 - val_loss: 0.5390 - val_accuracy: 0.7432\n",
      "Epoch 23/35\n",
      "83/83 [==============================] - 0s 3ms/step - loss: 0.5006 - accuracy: 0.7450 - val_loss: 0.5312 - val_accuracy: 0.7500\n",
      "Epoch 24/35\n"
     ]
    },
    {
     "name": "stdout",
     "output_type": "stream",
     "text": [
      "83/83 [==============================] - 0s 3ms/step - loss: 0.4972 - accuracy: 0.7461 - val_loss: 0.5273 - val_accuracy: 0.7466\n",
      "Epoch 25/35\n",
      "83/83 [==============================] - 0s 3ms/step - loss: 0.4940 - accuracy: 0.7465 - val_loss: 0.5280 - val_accuracy: 0.7466\n",
      "Epoch 26/35\n",
      "83/83 [==============================] - 0s 3ms/step - loss: 0.4909 - accuracy: 0.7465 - val_loss: 0.5215 - val_accuracy: 0.7534\n",
      "Epoch 27/35\n",
      "83/83 [==============================] - 0s 3ms/step - loss: 0.4879 - accuracy: 0.7507 - val_loss: 0.5268 - val_accuracy: 0.7568\n",
      "Epoch 28/35\n",
      "83/83 [==============================] - 0s 3ms/step - loss: 0.4856 - accuracy: 0.7545 - val_loss: 0.5211 - val_accuracy: 0.7534\n",
      "Epoch 29/35\n",
      "83/83 [==============================] - 0s 3ms/step - loss: 0.4831 - accuracy: 0.7568 - val_loss: 0.5209 - val_accuracy: 0.7466\n",
      "Epoch 30/35\n",
      "83/83 [==============================] - 0s 3ms/step - loss: 0.4807 - accuracy: 0.7587 - val_loss: 0.5208 - val_accuracy: 0.7500\n",
      "Epoch 31/35\n",
      "83/83 [==============================] - 0s 3ms/step - loss: 0.4789 - accuracy: 0.7651 - val_loss: 0.5175 - val_accuracy: 0.7568\n",
      "Epoch 32/35\n",
      "83/83 [==============================] - 0s 3ms/step - loss: 0.4771 - accuracy: 0.7632 - val_loss: 0.5153 - val_accuracy: 0.7603\n",
      "Epoch 33/35\n",
      "83/83 [==============================] - 0s 3ms/step - loss: 0.4751 - accuracy: 0.7655 - val_loss: 0.5159 - val_accuracy: 0.7603\n",
      "Epoch 34/35\n",
      "83/83 [==============================] - 0s 3ms/step - loss: 0.4734 - accuracy: 0.7651 - val_loss: 0.5166 - val_accuracy: 0.7637\n",
      "Epoch 35/35\n",
      "83/83 [==============================] - 0s 3ms/step - loss: 0.4716 - accuracy: 0.7682 - val_loss: 0.5191 - val_accuracy: 0.7397\n",
      "#####\n",
      "[[147  73]\n",
      " [ 77  52]]\n"
     ]
    },
    {
     "data": {
      "image/png": "[encoded data removed]",
      "text/plain": [
       "<Figure size 288x288 with 1 Axes>"
      ]
     },
     "metadata": {
      "needs_background": "light"
     },
     "output_type": "display_data"
    },
    {
     "data": {
      "image/png": "[encoded data removed]",
      "text/plain": [
       "<Figure size 288x288 with 1 Axes>"
      ]
     },
     "metadata": {
      "needs_background": "light"
     },
     "output_type": "display_data"
    },
    {
     "name": "stdout",
     "output_type": "stream",
     "text": [
      "#####\n",
      "#####\n",
      "[[149  55]\n",
      " [ 51  70]]\n"
     ]
    },
    {
     "data": {
      "image/png": "[encoded data removed]",
      "text/plain": [
       "<Figure size 288x288 with 1 Axes>"
      ]
     },
     "metadata": {
      "needs_background": "light"
     },
     "output_type": "display_data"
    },
    {
     "data": {
      "image/png": "[encoded data removed]",
      "text/plain": [
       "<Figure size 288x288 with 1 Axes>"
      ]
     },
     "metadata": {
      "needs_background": "light"
     },
     "output_type": "display_data"
    },
    {
     "name": "stdout",
     "output_type": "stream",
     "text": [
      "#####\n"
     ]
    }
   ],
   "source": [
    "model1 = keras.models.Sequential([\n",
    "        keras.layers.Dense(60, activation = 'relu', input_shape = df1_train.shape[1:]),\n",
    "        keras.layers.Dense(40, activation = 'relu'),\n",
    "        keras.layers.Dense(20, activation = 'relu'),\n",
    "        keras.layers.Dense(1, activation = 'sigmoid')\n",
    "    ])\n",
    "\n",
    "model1.compile(loss = 'binary_crossentropy', optimizer = 'sgd', metrics = ['accuracy'])\n",
    "history1 = model1.fit(df1_train, np.array(y1_train), epochs = 35, validation_split = 0.1)\n",
    "\n",
    "predictions1 = model1.predict(df1_test)\n",
    "for i in range(len(predictions1)):\n",
    "    num = rd.random()\n",
    "    if predictions1[i] >= num:\n",
    "        predictions1[i] = 1\n",
    "    else:\n",
    "        predictions1[i] = 0\n",
    "        \n",
    "\n",
    "\n",
    "model2 = keras.models.Sequential([\n",
    "        keras.layers.Dense(60, activation = 'relu', input_shape = df2_train.shape[1:]),\n",
    "        keras.layers.Dense(40, activation = 'relu'),\n",
    "        keras.layers.Dense(20, activation = 'relu'),\n",
    "        keras.layers.Dense(1, activation = 'sigmoid')\n",
    "    ])\n",
    "model2.compile(loss = 'binary_crossentropy', optimizer = 'sgd', metrics = ['accuracy'])\n",
    "history2 = model2.fit(df2_train, np.array(y2_train), epochs = 35, validation_split = 0.1)\n",
    "\n",
    "predictions2 = model2.predict(df2_test)\n",
    "for i in range(len(predictions2)):\n",
    "    num = rd.random()\n",
    "    if predictions2[i] >= num:\n",
    "        predictions2[i] = 1\n",
    "    else:\n",
    "        predictions2[i] = 0\n",
    "    \n",
    "\n",
    "\n",
    "\n",
    "print('#####')\n",
    "matrix = confusion_matrix(y1_test, predictions1)\n",
    "print(matrix)\n",
    "plt.matshow(matrix, cmap=plt.cm.gray)\n",
    "plt.show()  \n",
    "row_sums = matrix.sum(axis=1, keepdims=True)\n",
    "norm_matrix = matrix / row_sums\n",
    "np.fill_diagonal(norm_matrix, 0)\n",
    "plt.matshow(norm_matrix, cmap=plt.cm.gray)\n",
    "plt.show()    \n",
    "print('#####')\n",
    "\n",
    "print('#####')\n",
    "matrix = confusion_matrix(y2_test, predictions2)\n",
    "print(matrix)\n",
    "plt.matshow(matrix, cmap=plt.cm.gray)\n",
    "plt.show()  \n",
    "row_sums = matrix.sum(axis=1, keepdims=True)\n",
    "norm_matrix = matrix / row_sums\n",
    "np.fill_diagonal(norm_matrix, 0)\n",
    "plt.matshow(norm_matrix, cmap=plt.cm.gray)\n",
    "plt.show()    \n",
    "print('#####')"
   ]
  },
  {
   "cell_type": "markdown",
   "id": "cb818ab8",
   "metadata": {},
   "source": [
    "### Random Forest:"
   ]
  },
  {
   "cell_type": "code",
   "execution_count": 9,
   "id": "3156c312",
   "metadata": {},
   "outputs": [
    {
     "name": "stdout",
     "output_type": "stream",
     "text": [
      "#####\n",
      "[[143  77]\n",
      " [ 77  52]]\n"
     ]
    },
    {
     "data": {
      "image/png": "[encoded data removed]",
      "text/plain": [
       "<Figure size 288x288 with 1 Axes>"
      ]
     },
     "metadata": {
      "needs_background": "light"
     },
     "output_type": "display_data"
    },
    {
     "data": {
      "image/png": "[encoded data removed]",
      "text/plain": [
       "<Figure size 288x288 with 1 Axes>"
      ]
     },
     "metadata": {
      "needs_background": "light"
     },
     "output_type": "display_data"
    },
    {
     "name": "stdout",
     "output_type": "stream",
     "text": [
      "#####\n",
      "#####\n",
      "[[153  51]\n",
      " [ 56  65]]\n"
     ]
    },
    {
     "data": {
      "image/png": "[encoded data removed]",
      "text/plain": [
       "<Figure size 288x288 with 1 Axes>"
      ]
     },
     "metadata": {
      "needs_background": "light"
     },
     "output_type": "display_data"
    },
    {
     "data": {
      "image/png": "[encoded data removed]",
      "text/plain": [
       "<Figure size 288x288 with 1 Axes>"
      ]
     },
     "metadata": {
      "needs_background": "light"
     },
     "output_type": "display_data"
    },
    {
     "name": "stdout",
     "output_type": "stream",
     "text": [
      "#####\n",
      "#####\n",
      "[0.62045889 0.6290631  0.61052632]\n",
      "[[1570  403]\n",
      " [ 797  367]]\n"
     ]
    },
    {
     "data": {
      "image/png": "[encoded data removed]",
      "text/plain": [
       "<Figure size 288x288 with 1 Axes>"
      ]
     },
     "metadata": {
      "needs_background": "light"
     },
     "output_type": "display_data"
    },
    {
     "data": {
      "image/png": "[encoded data removed]",
      "text/plain": [
       "<Figure size 288x288 with 1 Axes>"
      ]
     },
     "metadata": {
      "needs_background": "light"
     },
     "output_type": "display_data"
    },
    {
     "name": "stdout",
     "output_type": "stream",
     "text": [
      "#####\n",
      "#####\n",
      "[0.72250771 0.73381295 0.72559096]\n",
      "[[1522  314]\n",
      " [ 470  613]]\n"
     ]
    },
    {
     "data": {
      "image/png": "[encoded data removed]",
      "text/plain": [
       "<Figure size 288x288 with 1 Axes>"
      ]
     },
     "metadata": {
      "needs_background": "light"
     },
     "output_type": "display_data"
    },
    {
     "data": {
      "image/png": "[encoded data removed]",
      "text/plain": [
       "<Figure size 288x288 with 1 Axes>"
      ]
     },
     "metadata": {
      "needs_background": "light"
     },
     "output_type": "display_data"
    },
    {
     "name": "stdout",
     "output_type": "stream",
     "text": [
      "#####\n"
     ]
    }
   ],
   "source": [
    "from sklearn.ensemble import RandomForestClassifier\n",
    "\n",
    "forest_clf1 = RandomForestClassifier()\n",
    "forest_clf2 = RandomForestClassifier()\n",
    "\n",
    "perform_probability_classification(forest_clf1, df1_train, y1_train, df1_test, y1_test)\n",
    "perform_probability_classification(forest_clf2, df2_train, y2_train, df2_test, y2_test)\n",
    "\n",
    "perform_classification(forest_clf1, df1_train, y1_train)\n",
    "perform_classification(forest_clf2, df2_train, y2_train)"
   ]
  },
  {
   "cell_type": "markdown",
   "id": "3081d82a",
   "metadata": {},
   "source": [
    "### Support Vector Machine:"
   ]
  },
  {
   "cell_type": "code",
   "execution_count": 10,
   "id": "5b894e74",
   "metadata": {},
   "outputs": [
    {
     "name": "stdout",
     "output_type": "stream",
     "text": [
      "#####\n",
      "[[139  81]\n",
      " [ 77  52]]\n"
     ]
    },
    {
     "data": {
      "image/png": "[encoded data removed]",
      "text/plain": [
       "<Figure size 288x288 with 1 Axes>"
      ]
     },
     "metadata": {
      "needs_background": "light"
     },
     "output_type": "display_data"
    },
    {
     "data": {
      "image/png": "[encoded data removed]",
      "text/plain": [
       "<Figure size 288x288 with 1 Axes>"
      ]
     },
     "metadata": {
      "needs_background": "light"
     },
     "output_type": "display_data"
    },
    {
     "name": "stdout",
     "output_type": "stream",
     "text": [
      "#####\n",
      "#####\n",
      "[[124  80]\n",
      " [ 76  45]]\n"
     ]
    },
    {
     "data": {
      "image/png": "[encoded data removed]",
      "text/plain": [
       "<Figure size 288x288 with 1 Axes>"
      ]
     },
     "metadata": {
      "needs_background": "light"
     },
     "output_type": "display_data"
    },
    {
     "data": {
      "image/png": "[encoded data removed]",
      "text/plain": [
       "<Figure size 288x288 with 1 Axes>"
      ]
     },
     "metadata": {
      "needs_background": "light"
     },
     "output_type": "display_data"
    },
    {
     "name": "stdout",
     "output_type": "stream",
     "text": [
      "#####\n",
      "#####\n",
      "[0.6376673  0.63957935 0.615311  ]\n",
      "[[1673  300]\n",
      " [ 858  306]]\n"
     ]
    },
    {
     "data": {
      "image/png": "[encoded data removed]",
      "text/plain": [
       "<Figure size 288x288 with 1 Axes>"
      ]
     },
     "metadata": {
      "needs_background": "light"
     },
     "output_type": "display_data"
    },
    {
     "data": {
      "image/png": "[encoded data removed]",
      "text/plain": [
       "<Figure size 288x288 with 1 Axes>"
      ]
     },
     "metadata": {
      "needs_background": "light"
     },
     "output_type": "display_data"
    },
    {
     "name": "stdout",
     "output_type": "stream",
     "text": [
      "#####\n",
      "#####\n",
      "[0.67420349 0.67934224 0.6700925 ]\n",
      "[[1680  156]\n",
      " [ 794  289]]\n"
     ]
    },
    {
     "data": {
      "image/png": "[encoded data removed]",
      "text/plain": [
       "<Figure size 288x288 with 1 Axes>"
      ]
     },
     "metadata": {
      "needs_background": "light"
     },
     "output_type": "display_data"
    },
    {
     "data": {
      "image/png": "[encoded data removed]",
      "text/plain": [
       "<Figure size 288x288 with 1 Axes>"
      ]
     },
     "metadata": {
      "needs_background": "light"
     },
     "output_type": "display_data"
    },
    {
     "name": "stdout",
     "output_type": "stream",
     "text": [
      "#####\n"
     ]
    }
   ],
   "source": [
    "from sklearn.svm import SVC\n",
    "\n",
    "svm_clf1 = SVC(kernel = 'rbf', gamma = 10, C = 100, probability = True)\n",
    "svm_clf2 = SVC(kernel = 'rbf', gamma = 10, C = 100, probability = True)\n",
    "\n",
    "perform_probability_classification(svm_clf1, df1_train, y1_train, df1_test, y1_test)\n",
    "perform_probability_classification(svm_clf2, df2_train, y2_train, df2_test, y2_test)\n",
    "\n",
    "perform_classification(svm_clf1, df1_train, y1_train)\n",
    "perform_classification(svm_clf2, df2_train, y2_train)"
   ]
  },
  {
   "cell_type": "markdown",
   "id": "df6c5251",
   "metadata": {},
   "source": [
    "# Problem 2:\n",
    "Hier geht es um die Legetimati"
   ]
  },
  {
   "cell_type": "code",
   "execution_count": 11,
   "id": "16e31adf",
   "metadata": {},
   "outputs": [
    {
     "data": {
      "text/plain": [
       "[2218, 2048, 1899, 1607, 1319]"
      ]
     },
     "execution_count": 11,
     "metadata": {},
     "output_type": "execute_result"
    }
   ],
   "source": [
    "df_beginners = df.query('Studienjahr == 1')\n",
    "df_beginners\n",
    "\n",
    "lengths = []\n",
    "for i in [15,16,17,18,19]:\n",
    "    df_dummy = df_beginners.query('year == @i')\n",
    "    lengths.append(len(df_dummy))\n",
    "    \n",
    "lengths"
   ]
  },
  {
   "cell_type": "markdown",
   "id": "82d54e62",
   "metadata": {},
   "source": [
    "### Diese Trendanalyse ist nicht aussagekraeftig!!!!"
   ]
  },
  {
   "cell_type": "code",
   "execution_count": 12,
   "id": "b8372b68",
   "metadata": {},
   "outputs": [
    {
     "data": {
      "text/plain": [
       "[<matplotlib.lines.Line2D at 0x7fba4e9e2f10>]"
      ]
     },
     "execution_count": 12,
     "metadata": {},
     "output_type": "execute_result"
    },
    {
     "data": {
      "image/png": "[encoded data removed]",
      "text/plain": [
       "<Figure size 432x288 with 1 Axes>"
      ]
     },
     "metadata": {
      "needs_background": "light"
     },
     "output_type": "display_data"
    }
   ],
   "source": [
    "plt.plot([15,16,17,18,19], lengths)"
   ]
  },
  {
   "cell_type": "code",
   "execution_count": 13,
   "id": "65282db3",
   "metadata": {},
   "outputs": [
    {
     "name": "stdout",
     "output_type": "stream",
     "text": [
      "[1146.5  922.6]\n",
      "[2218, 2048, 1899, 1607, 1319]\n"
     ]
    }
   ],
   "source": [
    "from sklearn.linear_model import LinearRegression\n",
    "years = np.array([15,16,17,18,19])\n",
    "year_model = LinearRegression()\n",
    "year_model.fit(years.reshape(-1,1), lengths)\n",
    "\n",
    "predicted_years = np.array([20,21])\n",
    "print(year_model.predict(predicted_years.reshape(-1,1)))\n",
    "print(lengths)"
   ]
  },
  {
   "cell_type": "code",
   "execution_count": 14,
   "id": "219b536f",
   "metadata": {},
   "outputs": [],
   "source": [
    "features2years = ['Studienjahr', 'styria_dummy', 'not_styria_dummy', 'germany_dummy',\n",
    "                  'num_parallel_studies', 'years_since_matura', 'firstGen',\n",
    "                  'geschlecht', 'AHS_dummy', 'BHS_dummy', 'ausland_vorbildung_dummy',\n",
    "                  'sonstige_vorbildung_dummy', 'jus_dummy', 'bwl_dummy',\n",
    "                  'delayed_dummy','active_2years']\n",
    "\n",
    "features1year = ['Studienjahr', 'styria_dummy', 'not_styria_dummy', 'germany_dummy',\n",
    "#                   'num_parallel_studies', 'years_since_matura', 'firstGen',\n",
    "                  'geschlecht', 'AHS_dummy', 'BHS_dummy', 'ausland_vorbildung_dummy',\n",
    "                  'sonstige_vorbildung_dummy', 'jus_dummy', 'bwl_dummy',\n",
    "#                   'delayed_dummy',\n",
    "                 'active_dummy']"
   ]
  },
  {
   "cell_type": "code",
   "execution_count": 15,
   "id": "8d1cc869",
   "metadata": {},
   "outputs": [
    {
     "data": {
      "text/plain": [
       "0        0.0\n",
       "1        0.0\n",
       "3        0.0\n",
       "4        0.0\n",
       "6        0.0\n",
       "        ... \n",
       "37258    1.0\n",
       "37261    0.0\n",
       "37262    1.0\n",
       "37265    1.0\n",
       "39874    0.0\n",
       "Name: active_2years, Length: 25733, dtype: float64"
      ]
     },
     "execution_count": 15,
     "metadata": {},
     "output_type": "execute_result"
    }
   ],
   "source": [
    "df = load_df('adapted_data.csv').drop(['Unnamed: 0'], axis =1)\n",
    "\n",
    "def active_2years(df):\n",
    "    df['active_3years'] = 0\n",
    "    for i in range(len(df)):\n",
    "        \n",
    "        matrikel_number = df.loc[i, 'matrikel_num']\n",
    "        studienjahr = df.loc[i, 'Studienjahr'] + 1\n",
    "        jus_dummy = df.loc[i, 'jus_dummy']\n",
    "        bwl_dummy = df.loc[i, 'bwl_dummy']\n",
    "        \n",
    "        student2 = df.query('matrikel_num == @matrikel_number and Studienjahr == @studienjahr and jus_dummy == @jus_dummy and bwl_dummy == @bwl_dummy').reset_index(drop = True)\n",
    "\n",
    "        if len(student2) != 0:\n",
    "            active = student2.loc[0, 'active_dummy']\n",
    "            df.loc[i, 'active_2years'] = active\n",
    "            \n",
    "    return df\n",
    "\n",
    "df_2years = active_2years(df).query('year <= 17')\n",
    "df_2years['active_2years'].fillna(0)\n"
   ]
  },
  {
   "cell_type": "code",
   "execution_count": 16,
   "id": "640f7d00",
   "metadata": {},
   "outputs": [
    {
     "data": {
      "text/plain": [
       "0        0\n",
       "1        0\n",
       "2        0\n",
       "3        1\n",
       "4        0\n",
       "        ..\n",
       "39937    0\n",
       "39938    0\n",
       "39939    1\n",
       "39940    1\n",
       "39941    1\n",
       "Name: active_dummy, Length: 39942, dtype: int64"
      ]
     },
     "execution_count": 16,
     "metadata": {},
     "output_type": "execute_result"
    }
   ],
   "source": [
    "df = load_df('adapted_data.csv').drop(['Unnamed: 0'], axis =1)\n",
    "df_1year = df.copy(deep = True)\n",
    "df_1year['active_dummy'].fillna(0)\n"
   ]
  },
  {
   "cell_type": "code",
   "execution_count": 17,
   "id": "459d0281",
   "metadata": {},
   "outputs": [],
   "source": [
    "df2years = df_2years[features2years].query('Studienjahr == 1').reset_index(drop = True).dropna()\n",
    "df1year = df_1year[features1year].query('Studienjahr == 1').reset_index(drop = True).dropna()\n",
    "\n",
    "\n",
    "df_train2 = df2years.drop(['active_2years'], axis = 1)\n",
    "y_train2 = df2years['active_2years']\n",
    "\n",
    "df_train1 = df1year.drop(['active_dummy'], axis = 1)\n",
    "y_train1 = df1year['active_dummy']\n",
    "\n"
   ]
  },
  {
   "cell_type": "code",
   "execution_count": 18,
   "id": "d0c794f8",
   "metadata": {},
   "outputs": [
    {
     "data": {
      "text/plain": [
       "SVC(C=100, gamma=10, probability=True)"
      ]
     },
     "execution_count": 18,
     "metadata": {},
     "output_type": "execute_result"
    }
   ],
   "source": [
    "svm_clf1year = SVC(kernel = 'rbf', gamma = 10, C = 100, probability = True)\n",
    "svm_clf2years = SVC(kernel = 'rbf', gamma = 10, C = 100, probability = True)\n",
    "\n",
    "svm_clf1year.fit(df_train1, y_train1)\n",
    "svm_clf2years.fit(df_train2, y_train2)"
   ]
  },
  {
   "cell_type": "code",
   "execution_count": 19,
   "id": "cb456c03",
   "metadata": {},
   "outputs": [],
   "source": [
    "df1_15 = df_1year.query('Studienjahr == 1 and year == 15')[features1year].drop(['active_dummy'], axis = 1).fillna(0)\n",
    "df1_16 = df_1year.query('Studienjahr == 1 and year == 16')[features1year].drop(['active_dummy'], axis = 1).fillna(0)\n",
    "df1_17 = df_1year.query('Studienjahr == 1 and year == 17')[features1year].drop(['active_dummy'], axis = 1).fillna(0)\n",
    "\n",
    "df1_dummy16 = df1_15.sample(n = 2048)\n",
    "df1_dummy17 = df1_16.sample(n = 1899)\n"
   ]
  },
  {
   "cell_type": "code",
   "execution_count": 20,
   "id": "1d6351e8",
   "metadata": {},
   "outputs": [],
   "source": [
    "def predict_sum(classifier, df):\n",
    "    probabilities = classifier.predict_proba(df)[:,1]\n",
    "    for i in range(len(probabilities)):\n",
    "        num = rd.random()\n",
    "        if probabilities[i] >= num:\n",
    "            probabilities[i] = 1\n",
    "        else:\n",
    "            probabilities[i] = 0\n",
    "    print(sum(probabilities))\n",
    "    print('######')\n",
    "\n"
   ]
  },
  {
   "cell_type": "code",
   "execution_count": 21,
   "id": "4beaf97a",
   "metadata": {},
   "outputs": [
    {
     "name": "stdout",
     "output_type": "stream",
     "text": [
      "1089.0\n",
      "######\n",
      "1107.0\n",
      "######\n",
      "\n",
      "1029.0\n",
      "######\n",
      "1011.0\n",
      "######\n"
     ]
    }
   ],
   "source": [
    "predict_sum(svm_clf1year, df1_16)\n",
    "predict_sum(svm_clf1year, df1_dummy16)\n",
    "print('')\n",
    "\n",
    "predict_sum(svm_clf1year, df1_17)\n",
    "predict_sum(svm_clf1year, df1_dummy17)"
   ]
  },
  {
   "cell_type": "code",
   "execution_count": 22,
   "id": "0805adb2",
   "metadata": {},
   "outputs": [],
   "source": [
    "df2_15 = df_2years.query('Studienjahr == 1 and year == 15')[features2years].drop(['active_2years'], axis = 1).fillna(0)\n",
    "df2_16 = df_2years.query('Studienjahr == 1 and year == 16')[features2years].drop(['active_2years'], axis = 1).fillna(0)\n",
    "df2_17 = df_2years.query('Studienjahr == 1 and year == 17')[features2years].drop(['active_2years'], axis = 1).fillna(0)\n",
    "\n",
    "df2_dummy16 = df2_15.sample(n = 2048)\n",
    "df2_dummy17 = df2_16.sample(n = 1899)"
   ]
  },
  {
   "cell_type": "code",
   "execution_count": 23,
   "id": "8bd3f9bd",
   "metadata": {},
   "outputs": [
    {
     "name": "stdout",
     "output_type": "stream",
     "text": [
      "1250.0\n",
      "######\n",
      "1246.0\n",
      "######\n",
      "\n",
      "1131.0\n",
      "######\n",
      "1136.0\n",
      "######\n"
     ]
    }
   ],
   "source": [
    "predict_sum(svm_clf2years, df2_16)\n",
    "predict_sum(svm_clf2years, df2_dummy16)\n",
    "print('')\n",
    "\n",
    "predict_sum(svm_clf2years, df2_17)\n",
    "predict_sum(svm_clf2years, df2_dummy17)"
   ]
  },
  {
   "cell_type": "code",
   "execution_count": 24,
   "id": "2a5732a6",
   "metadata": {},
   "outputs": [],
   "source": [
    "df = load_df('adapted_data.csv').drop(['Unnamed: 0'], axis =1)\n",
    "\n",
    "features2years = ['Studienjahr', 'styria_dummy', 'not_styria_dummy', 'germany_dummy',\n",
    "                  'num_parallel_studies', 'years_since_matura', 'firstGen',\n",
    "                  'geschlecht', 'AHS_dummy', 'BHS_dummy', 'ausland_vorbildung_dummy',\n",
    "                  'sonstige_vorbildung_dummy', 'jus_dummy', 'bwl_dummy',\n",
    "                  'delayed_dummy']\n",
    "\n",
    "features1year = ['Studienjahr', 'styria_dummy', 'not_styria_dummy', 'germany_dummy',\n",
    "#                   'num_parallel_studies', 'years_since_matura', 'firstGen',\n",
    "                  'geschlecht', 'AHS_dummy', 'BHS_dummy', 'ausland_vorbildung_dummy',\n",
    "                  'sonstige_vorbildung_dummy', 'jus_dummy', 'bwl_dummy',\n",
    "#                   'delayed_dummy',\n",
    "                 ]\n",
    "\n",
    "\n",
    "df19 = df.query('Studienjahr == 1 and year == 19')\n"
   ]
  },
  {
   "cell_type": "code",
   "execution_count": 25,
   "id": "63fb6b83",
   "metadata": {},
   "outputs": [],
   "source": [
    "df20 = df19.sample(n = 1146)\n",
    "df21 = df19.sample(n = 922)\n",
    "\n",
    "df20 = df20[features2years].fillna(0)\n",
    "df21 = df21[features1year].fillna(0)"
   ]
  },
  {
   "cell_type": "code",
   "execution_count": 26,
   "id": "ecda65b7",
   "metadata": {},
   "outputs": [
    {
     "name": "stdout",
     "output_type": "stream",
     "text": [
      "682.0\n",
      "######\n",
      "505.0\n",
      "######\n"
     ]
    }
   ],
   "source": [
    "predict_sum(svm_clf2years, df20)\n",
    "predict_sum(svm_clf1year, df21)"
   ]
  },
  {
   "cell_type": "code",
   "execution_count": null,
   "id": "d4b93714",
   "metadata": {},
   "outputs": [],
   "source": []
  },
  {
   "cell_type": "code",
   "execution_count": null,
   "id": "2ecde99f",
   "metadata": {},
   "outputs": [],
   "source": []
  }
 ],
 "metadata": {
  "kernelspec": {
   "display_name": "Python 3",
   "language": "python",
   "name": "python3"
  },
  "language_info": {
   "codemirror_mode": {
    "name": "ipython",
    "version": 3
   },
   "file_extension": ".py",
   "mimetype": "text/x-python",
   "name": "python",
   "nbconvert_exporter": "python",
   "pygments_lexer": "ipython3",
   "version": "3.8.10"
  }
 },
 "nbformat": 4,
 "nbformat_minor": 5
}
