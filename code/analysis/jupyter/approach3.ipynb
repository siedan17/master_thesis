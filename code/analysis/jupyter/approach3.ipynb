{
 "cells": [
  {
   "cell_type": "markdown",
   "id": "b73ef503",
   "metadata": {},
   "source": [
    "# APPROACH 3"
   ]
  },
  {
   "cell_type": "code",
   "execution_count": 1,
   "id": "c682d180",
   "metadata": {},
   "outputs": [],
   "source": [
    "import sys\n",
    "import os\n",
    "import random as rd\n",
    "\n",
    "import numpy as np\n",
    "import pandas as pd\n",
    "import matplotlib.pyplot as plt\n",
    "\n",
    "import sklearn\n",
    "from sklearn.metrics import mean_squared_error\n",
    "from sklearn.model_selection import StratifiedShuffleSplit\n",
    "# from sklearn.pipeline import Pipeline\n",
    "from sklearn.preprocessing import StandardScaler\n",
    "from sklearn.model_selection import cross_val_predict\n",
    "from sklearn.model_selection import cross_val_score\n",
    "from sklearn.metrics import confusion_matrix, precision_score, recall_score, f1_score, precision_recall_curve\n",
    "scaler = StandardScaler()\n",
    "\n",
    "import tensorflow as tf\n",
    "from tensorflow import keras\n",
    "\n",
    "\n",
    "raw_data_folder = os.path.abspath('/home/siedan/programming/masterarbeit/code/analysis/raw_data')\n",
    "\n",
    "def load_df(name):\n",
    "    return pd.read_csv(os.path.join(raw_data_folder, name))\n",
    "\n",
    "df_working = load_df('adapted_data.csv').drop(['Unnamed: 0'], axis =1)\n",
    "\n",
    "features_year1 = ['styria_dummy', 'not_styria_dummy', 'germany_dummy',\n",
    "                  'num_parallel_studies', 'years_since_matura', 'firstGen',\n",
    "                  'geschlecht', 'AHS_dummy', 'BHS_dummy', 'ausland_vorbildung_dummy',\n",
    "                  'sonstige_vorbildung_dummy', 'jus_dummy', 'bwl_dummy',\n",
    "                  'delayed_dummy','active_3years', 'ECTS_year', 'active_dummy']\n",
    "\n",
    "features_years = ['Studienjahr', 'styria_dummy', 'not_styria_dummy', 'germany_dummy',\n",
    "                  'num_parallel_studies', 'cum_ects_pos_before', 'avgECTS_sem_before', 'ects_year_before',\n",
    "                  'full_duration_sem_before', 'geschlecht', 'years_since_matura', 'firstGen', 'AHS_dummy',\n",
    "                  'BHS_dummy', 'ausland_vorbildung_dummy', 'sonstige_vorbildung_dummy', 'delayed_dummy',\n",
    "                  'jus_dummy', 'bwl_dummy', 'active_3years', 'ECTS_year', 'active_dummy']\n",
    "\n"
   ]
  },
  {
   "cell_type": "markdown",
   "id": "804f69e4",
   "metadata": {},
   "source": [
    "## Daten:\n"
   ]
  },
  {
   "cell_type": "code",
   "execution_count": 2,
   "id": "d55a4512",
   "metadata": {},
   "outputs": [],
   "source": [
    "df_test = df_working.copy(deep = True)"
   ]
  },
  {
   "cell_type": "code",
   "execution_count": 3,
   "id": "030b955d",
   "metadata": {},
   "outputs": [],
   "source": [
    "def active_3years(df):\n",
    "    count = 0\n",
    "  \n",
    "    for i in range(len(df)):\n",
    "        \n",
    "        matrikel_number = df.loc[i, 'matrikel_num']\n",
    "        studienjahr = df.loc[i, 'Studienjahr'] + 2\n",
    "        jus_dummy = df.loc[i, 'jus_dummy']\n",
    "        bwl_dummy = df.loc[i, 'bwl_dummy']\n",
    "        \n",
    "        student_in_3_years = df.query('matrikel_num == @matrikel_number and Studienjahr == @studienjahr and jus_dummy == @jus_dummy and bwl_dummy == @bwl_dummy').reset_index(drop = True)\n",
    "        \n",
    "        if len(student_in_3_years) != 0:\n",
    "            count += 1\n",
    "            active = student_in_3_years.loc[0, 'active_dummy']\n",
    "            df.loc[i, 'active_3years'] = active\n",
    "        else:\n",
    "            df.loc[i, 'active_3years'] = 0 # mache ich auch null, weil er ja nicht aktiv ist, wenn er nicht mehr da ist.\n",
    "        \n",
    "        \n",
    "    print(count)  \n",
    "    return df\n",
    "\n",
    "\n",
    "\n",
    "\n",
    "\n"
   ]
  },
  {
   "cell_type": "code",
   "execution_count": 4,
   "id": "e1c28db0",
   "metadata": {},
   "outputs": [
    {
     "name": "stdout",
     "output_type": "stream",
     "text": [
      "13042\n"
     ]
    }
   ],
   "source": [
    "df_new = active_3years(df_test).query('year <= 17') # weil ich +2 rechne und ich den Datensatz nur bis 19 habe. \n",
    "# ansonsten haetten manche keine Chance!"
   ]
  },
  {
   "cell_type": "code",
   "execution_count": null,
   "id": "2d869a8e",
   "metadata": {},
   "outputs": [],
   "source": []
  },
  {
   "cell_type": "code",
   "execution_count": 5,
   "id": "d93034d7",
   "metadata": {},
   "outputs": [],
   "source": [
    "df1 = df_new.query('Studienjahr == 1').copy(deep = True)\n",
    "df2 = df_new.query('Studienjahr > 1').copy(deep = True)\n"
   ]
  },
  {
   "cell_type": "code",
   "execution_count": null,
   "id": "c62e3700",
   "metadata": {},
   "outputs": [],
   "source": []
  },
  {
   "cell_type": "markdown",
   "id": "ad64d462",
   "metadata": {},
   "source": [
    "## Modelle:\n"
   ]
  },
  {
   "cell_type": "code",
   "execution_count": 6,
   "id": "283adcca",
   "metadata": {},
   "outputs": [
    {
     "name": "stdout",
     "output_type": "stream",
     "text": [
      "4585\n",
      "6311\n"
     ]
    }
   ],
   "source": [
    "def create_data1(df):\n",
    "    df = df.query('Studienjahr == 1')[features_year1].copy(deep = True)\n",
    "    df = df.dropna().reset_index(drop = True)\n",
    "    split = StratifiedShuffleSplit(n_splits = 1, test_size = 0.1, random_state = 42)\n",
    "    for train_index, test_index in split.split(df, df['active_3years']):\n",
    "        df_train = df.loc[train_index, :]\n",
    "        df_test = df.loc[test_index, :]\n",
    "    df_train_copy = df_train.copy(deep = True)\n",
    "    y_train = list(df_train['active_3years'])\n",
    "    y_test = list(df_test['active_3years'])\n",
    "    df_train = scaler.fit_transform(df_train.drop(['active_3years', 'ECTS_year', 'active_dummy'], axis = 1))\n",
    "    df_test = scaler.fit_transform(df_test.drop(['active_3years', 'ECTS_year', 'active_dummy'], axis = 1))\n",
    "    return df_train, y_train, df_test, y_test, df_train_copy\n",
    "\n",
    "def create_data2(df):\n",
    "    df = df.query('Studienjahr > 1')[features_years].copy(deep = True)\n",
    "    df = df.dropna().reset_index(drop = True)\n",
    "    split = StratifiedShuffleSplit(n_splits = 1, test_size = 0.1, random_state = 42)\n",
    "    for train_index, test_index in split.split(df, df['active_3years']):\n",
    "        \n",
    "        df_train = df.loc[train_index, :]\n",
    "        df_test = df.loc[test_index, :]\n",
    "    df_train_copy = df_train.copy(deep = True)\n",
    "    y_train = list(df_train['active_3years'])\n",
    "    y_test = list(df_test['active_3years'])\n",
    "    df_train = scaler.fit_transform(df_train.drop(['active_3years', 'ECTS_year', 'active_dummy'], axis = 1))\n",
    "    df_test = scaler.fit_transform(df_test.drop(['active_3years', 'ECTS_year', 'active_dummy'], axis = 1))\n",
    "    return df_train, y_train, df_test, y_test, df_train_copy\n",
    "\n",
    "\n",
    "df1_train, y1_train, df1_test, y1_test, df1_train_copy = create_data1(df_new)\n",
    "df2_train, y2_train, df2_test, y2_test, df2_train_copy = create_data2(df_new)\n",
    "\n",
    "print(len(df1_train))\n",
    "print(len(df2_train))"
   ]
  },
  {
   "cell_type": "code",
   "execution_count": 7,
   "id": "76948486",
   "metadata": {},
   "outputs": [],
   "source": [
    "def display_scores(scores):\n",
    "    print('Scores: ', scores)\n",
    "    print('Mean: ', scores.mean())\n",
    "    print('Standard deviation: ', scores.std())\n",
    "\n",
    "def perform_classification(classifier, df, labels):\n",
    "    df = df.copy()\n",
    "    print('#####')\n",
    "    scores = cross_val_score(classifier, df, labels, cv=5, scoring='accuracy')\n",
    "    display_scores(scores)\n",
    "    \n",
    "    predicted = cross_val_predict(classifier, df, labels, cv=5)\n",
    "    matrix = confusion_matrix(labels, predicted)\n",
    "    print(matrix)\n",
    "#     plt.matshow(matrix, cmap=plt.cm.gray)\n",
    "    plt.show()  \n",
    "    row_sums = matrix.sum(axis=1, keepdims=True)\n",
    "    norm_matrix = matrix / row_sums\n",
    "    np.fill_diagonal(norm_matrix, 0)\n",
    "#     plt.matshow(norm_matrix, cmap=plt.cm.gray)\n",
    "    plt.show()    \n",
    "    print('#####')\n",
    "    return\n",
    "\n",
    "# def perform_probability_classification(classifier, df_train, y_train, df_test, y_test):\n",
    "#     classifier = sklearn.base.clone(classifier)\n",
    "#     classifier.fit(df_train, y_train)\n",
    "#     probabilities = classifier.predict_proba(df_test)[:,1]\n",
    "#     for i in range(len(probabilities)):\n",
    "#         num = rd.random()\n",
    "#         if probabilities[i] >= num:\n",
    "#             probabilities[i] = 1\n",
    "#         else:\n",
    "#             probabilities[i] = 0\n",
    "            \n",
    "#     print('#####')\n",
    "#     matrix = confusion_matrix(y_test, probabilities)\n",
    "#     print(matrix)\n",
    "# #     plt.matshow(matrix, cmap=plt.cm.gray)\n",
    "# #     plt.show()  \n",
    "# #     row_sums = matrix.sum(axis=1, keepdims=True)\n",
    "# #     norm_matrix = matrix / row_sums\n",
    "# #     np.fill_diagonal(norm_matrix, 0)\n",
    "# #     plt.matshow(norm_matrix, cmap=plt.cm.gray)\n",
    "# #     plt.show()    \n",
    "#     print('#####')\n",
    "    \n",
    "def probability_classification(classifier, df_train, y_train, df_test, y_test):\n",
    "    classifier = sklearn.base.clone(classifier)\n",
    "    classifier.fit(df_train, y_train)\n",
    "    probabilities = classifier.predict_proba(df_test)[:,1]\n",
    "    prediction = np.sum(probabilities)\n",
    "    real_value = np.sum(y_test)\n",
    "    print('Prediction: ' + str(prediction) + ' vs. Real value: ' + str(real_value))\n",
    "\n",
    "# print(precision_score(y1_train, y1_train_predicted))\n",
    "# print(recall_score(y1_train, y1_train_predicted))\n",
    "# print(f1_score(y1_train, y1_train_predicted))"
   ]
  },
  {
   "cell_type": "markdown",
   "id": "f8f67482",
   "metadata": {},
   "source": [
    "### Logistic Regression: \n"
   ]
  },
  {
   "cell_type": "code",
   "execution_count": 8,
   "id": "cdc29f43",
   "metadata": {},
   "outputs": [
    {
     "name": "stdout",
     "output_type": "stream",
     "text": [
      "Prediction: 187.36972411079404 vs. Real value: 187.0\n",
      "Prediction: 259.4939972615948 vs. Real value: 259.0\n",
      "#####\n",
      "Scores:  [0.62486369 0.63140676 0.64122137 0.64013086 0.63358779]\n",
      "Mean:  0.6342420937840785\n",
      "Standard deviation:  0.005996827517935674\n",
      "[[2858   46]\n",
      " [1631   50]]\n",
      "#####\n",
      "#####\n",
      "Scores:  [0.69833729 0.69096672 0.68066561 0.70998415 0.70126783]\n",
      "Mean:  0.6962443205559175\n",
      "Standard deviation:  0.009888866757310507\n",
      "[[3315  666]\n",
      " [1251 1079]]\n",
      "#####\n"
     ]
    }
   ],
   "source": [
    "from sklearn.linear_model import LogisticRegression\n",
    "\n",
    "log_clf1 = LogisticRegression(random_state=0, multi_class = 'multinomial')\n",
    "log_clf2 = LogisticRegression(random_state=0, multi_class = 'multinomial')\n",
    "\n",
    "# perform_probability_classification(log_clf1, df1_train, y1_train, df1_test, y1_test)\n",
    "# perform_probability_classification(log_clf2, df2_train, y2_train, df2_test, y2_test)\n",
    "\n",
    "probability_classification(log_clf1, df1_train, y1_train, df1_test, y1_test)\n",
    "probability_classification(log_clf2, df2_train, y2_train, df2_test, y2_test)\n",
    "\n",
    "perform_classification(log_clf1, df1_train, y1_train)\n",
    "perform_classification(log_clf2, df2_train, y2_train)\n",
    "\n"
   ]
  },
  {
   "cell_type": "markdown",
   "id": "0f32ee9f",
   "metadata": {},
   "source": [
    "### Neuronale Netzwerke:"
   ]
  },
  {
   "cell_type": "code",
   "execution_count": 9,
   "id": "090d3a25",
   "metadata": {},
   "outputs": [
    {
     "name": "stdout",
     "output_type": "stream",
     "text": [
      "Epoch 1/35\n",
      "129/129 [==============================] - 1s 2ms/step - loss: 0.6583 - accuracy: 0.6306 - val_loss: 0.6492 - val_accuracy: 0.6558\n",
      "Epoch 2/35\n",
      "129/129 [==============================] - 0s 1ms/step - loss: 0.6540 - accuracy: 0.6309 - val_loss: 0.6459 - val_accuracy: 0.6558\n",
      "Epoch 3/35\n",
      "129/129 [==============================] - 0s 1ms/step - loss: 0.6514 - accuracy: 0.6309 - val_loss: 0.6441 - val_accuracy: 0.6558\n",
      "Epoch 4/35\n",
      "129/129 [==============================] - 0s 1ms/step - loss: 0.6492 - accuracy: 0.6309 - val_loss: 0.6430 - val_accuracy: 0.6558\n",
      "Epoch 5/35\n",
      "129/129 [==============================] - 0s 1ms/step - loss: 0.6474 - accuracy: 0.6309 - val_loss: 0.6412 - val_accuracy: 0.6558\n",
      "Epoch 6/35\n",
      "129/129 [==============================] - 0s 1ms/step - loss: 0.6458 - accuracy: 0.6309 - val_loss: 0.6400 - val_accuracy: 0.6558\n",
      "Epoch 7/35\n",
      "129/129 [==============================] - 0s 1ms/step - loss: 0.6444 - accuracy: 0.6309 - val_loss: 0.6389 - val_accuracy: 0.6558\n",
      "Epoch 8/35\n",
      "129/129 [==============================] - 0s 1ms/step - loss: 0.6431 - accuracy: 0.6309 - val_loss: 0.6378 - val_accuracy: 0.6558\n",
      "Epoch 9/35\n",
      "129/129 [==============================] - 0s 1ms/step - loss: 0.6417 - accuracy: 0.6309 - val_loss: 0.6364 - val_accuracy: 0.6558\n",
      "Epoch 10/35\n",
      "129/129 [==============================] - 0s 1ms/step - loss: 0.6407 - accuracy: 0.6309 - val_loss: 0.6359 - val_accuracy: 0.6558\n",
      "Epoch 11/35\n",
      "129/129 [==============================] - 0s 1ms/step - loss: 0.6396 - accuracy: 0.6309 - val_loss: 0.6355 - val_accuracy: 0.6558\n",
      "Epoch 12/35\n",
      "129/129 [==============================] - 0s 1ms/step - loss: 0.6385 - accuracy: 0.6311 - val_loss: 0.6351 - val_accuracy: 0.6558\n",
      "Epoch 13/35\n",
      "129/129 [==============================] - 0s 1ms/step - loss: 0.6377 - accuracy: 0.6309 - val_loss: 0.6340 - val_accuracy: 0.6558\n",
      "Epoch 14/35\n",
      "129/129 [==============================] - 0s 1ms/step - loss: 0.6369 - accuracy: 0.6309 - val_loss: 0.6336 - val_accuracy: 0.6558\n",
      "Epoch 15/35\n",
      "129/129 [==============================] - 0s 1ms/step - loss: 0.6360 - accuracy: 0.6306 - val_loss: 0.6340 - val_accuracy: 0.6514\n",
      "Epoch 16/35\n",
      "129/129 [==============================] - 0s 1ms/step - loss: 0.6353 - accuracy: 0.6314 - val_loss: 0.6326 - val_accuracy: 0.6536\n",
      "Epoch 17/35\n",
      "129/129 [==============================] - 0s 1ms/step - loss: 0.6346 - accuracy: 0.6302 - val_loss: 0.6333 - val_accuracy: 0.6580\n",
      "Epoch 18/35\n",
      "129/129 [==============================] - 0s 1ms/step - loss: 0.6339 - accuracy: 0.6345 - val_loss: 0.6331 - val_accuracy: 0.6601\n",
      "Epoch 19/35\n",
      "129/129 [==============================] - 0s 1ms/step - loss: 0.6334 - accuracy: 0.6338 - val_loss: 0.6324 - val_accuracy: 0.6601\n",
      "Epoch 20/35\n",
      "129/129 [==============================] - 0s 1ms/step - loss: 0.6328 - accuracy: 0.6343 - val_loss: 0.6324 - val_accuracy: 0.6623\n",
      "Epoch 21/35\n",
      "129/129 [==============================] - 0s 1ms/step - loss: 0.6324 - accuracy: 0.6328 - val_loss: 0.6326 - val_accuracy: 0.6623\n",
      "Epoch 22/35\n",
      "129/129 [==============================] - 0s 1ms/step - loss: 0.6319 - accuracy: 0.6348 - val_loss: 0.6323 - val_accuracy: 0.6623\n",
      "Epoch 23/35\n",
      "129/129 [==============================] - 0s 1ms/step - loss: 0.6315 - accuracy: 0.6345 - val_loss: 0.6321 - val_accuracy: 0.6623\n",
      "Epoch 24/35\n",
      "129/129 [==============================] - 0s 1ms/step - loss: 0.6309 - accuracy: 0.6345 - val_loss: 0.6321 - val_accuracy: 0.6623\n",
      "Epoch 25/35\n",
      "129/129 [==============================] - 0s 1ms/step - loss: 0.6305 - accuracy: 0.6338 - val_loss: 0.6328 - val_accuracy: 0.6558\n",
      "Epoch 26/35\n",
      "129/129 [==============================] - 0s 1ms/step - loss: 0.6300 - accuracy: 0.6360 - val_loss: 0.6319 - val_accuracy: 0.6558\n",
      "Epoch 27/35\n",
      "129/129 [==============================] - 0s 1ms/step - loss: 0.6296 - accuracy: 0.6328 - val_loss: 0.6331 - val_accuracy: 0.6645\n",
      "Epoch 28/35\n",
      "129/129 [==============================] - 0s 1ms/step - loss: 0.6294 - accuracy: 0.6374 - val_loss: 0.6326 - val_accuracy: 0.6601\n",
      "Epoch 29/35\n",
      "129/129 [==============================] - 0s 1ms/step - loss: 0.6291 - accuracy: 0.6374 - val_loss: 0.6329 - val_accuracy: 0.6580\n",
      "Epoch 30/35\n",
      "129/129 [==============================] - 0s 1ms/step - loss: 0.6287 - accuracy: 0.6391 - val_loss: 0.6325 - val_accuracy: 0.6580\n",
      "Epoch 31/35\n",
      "129/129 [==============================] - 0s 1ms/step - loss: 0.6283 - accuracy: 0.6379 - val_loss: 0.6323 - val_accuracy: 0.6580\n",
      "Epoch 32/35\n",
      "129/129 [==============================] - 0s 1ms/step - loss: 0.6278 - accuracy: 0.6411 - val_loss: 0.6315 - val_accuracy: 0.6623\n",
      "Epoch 33/35\n",
      "129/129 [==============================] - 0s 1ms/step - loss: 0.6275 - accuracy: 0.6386 - val_loss: 0.6319 - val_accuracy: 0.6580\n",
      "Epoch 34/35\n",
      "129/129 [==============================] - 0s 1ms/step - loss: 0.6270 - accuracy: 0.6396 - val_loss: 0.6316 - val_accuracy: 0.6580\n",
      "Epoch 35/35\n",
      "129/129 [==============================] - 0s 1ms/step - loss: 0.6268 - accuracy: 0.6401 - val_loss: 0.6317 - val_accuracy: 0.6623\n",
      "Prediction: 183.03445 vs. Real value: 187.0\n",
      "Epoch 1/35\n",
      "178/178 [==============================] - 1s 2ms/step - loss: 0.6595 - accuracy: 0.6038 - val_loss: 0.6340 - val_accuracy: 0.6282\n",
      "Epoch 2/35\n",
      "178/178 [==============================] - 0s 1ms/step - loss: 0.6147 - accuracy: 0.6667 - val_loss: 0.6156 - val_accuracy: 0.6693\n",
      "Epoch 3/35\n",
      "178/178 [==============================] - 0s 1ms/step - loss: 0.5977 - accuracy: 0.6864 - val_loss: 0.5991 - val_accuracy: 0.6772\n",
      "Epoch 4/35\n",
      "178/178 [==============================] - 0s 1ms/step - loss: 0.5820 - accuracy: 0.6961 - val_loss: 0.5827 - val_accuracy: 0.7104\n",
      "Epoch 5/35\n",
      "178/178 [==============================] - 0s 1ms/step - loss: 0.5665 - accuracy: 0.7156 - val_loss: 0.5662 - val_accuracy: 0.7104\n",
      "Epoch 6/35\n",
      "178/178 [==============================] - 0s 1ms/step - loss: 0.5505 - accuracy: 0.7257 - val_loss: 0.5493 - val_accuracy: 0.7199\n",
      "Epoch 7/35\n",
      "178/178 [==============================] - 0s 1ms/step - loss: 0.5350 - accuracy: 0.7329 - val_loss: 0.5341 - val_accuracy: 0.7263\n",
      "Epoch 8/35\n",
      "178/178 [==============================] - 0s 1ms/step - loss: 0.5207 - accuracy: 0.7408 - val_loss: 0.5190 - val_accuracy: 0.7421\n",
      "Epoch 9/35\n",
      "178/178 [==============================] - 0s 1ms/step - loss: 0.5093 - accuracy: 0.7494 - val_loss: 0.5087 - val_accuracy: 0.7516\n",
      "Epoch 10/35\n",
      "178/178 [==============================] - 0s 1ms/step - loss: 0.5002 - accuracy: 0.7531 - val_loss: 0.5018 - val_accuracy: 0.7516\n",
      "Epoch 11/35\n",
      "178/178 [==============================] - 0s 1ms/step - loss: 0.4947 - accuracy: 0.7582 - val_loss: 0.4944 - val_accuracy: 0.7611\n",
      "Epoch 12/35\n",
      "178/178 [==============================] - 0s 1ms/step - loss: 0.4897 - accuracy: 0.7600 - val_loss: 0.4921 - val_accuracy: 0.7611\n",
      "Epoch 13/35\n",
      "178/178 [==============================] - 0s 1ms/step - loss: 0.4856 - accuracy: 0.7640 - val_loss: 0.4873 - val_accuracy: 0.7690\n",
      "Epoch 14/35\n",
      "178/178 [==============================] - 0s 1ms/step - loss: 0.4834 - accuracy: 0.7635 - val_loss: 0.4853 - val_accuracy: 0.7690\n",
      "Epoch 15/35\n",
      "178/178 [==============================] - 0s 1ms/step - loss: 0.4806 - accuracy: 0.7625 - val_loss: 0.4846 - val_accuracy: 0.7579\n",
      "Epoch 16/35\n",
      "178/178 [==============================] - 0s 1ms/step - loss: 0.4791 - accuracy: 0.7663 - val_loss: 0.4818 - val_accuracy: 0.7706\n",
      "Epoch 17/35\n",
      "178/178 [==============================] - 0s 1ms/step - loss: 0.4775 - accuracy: 0.7649 - val_loss: 0.4810 - val_accuracy: 0.7690\n",
      "Epoch 18/35\n",
      "178/178 [==============================] - 0s 1ms/step - loss: 0.4755 - accuracy: 0.7681 - val_loss: 0.4802 - val_accuracy: 0.7627\n",
      "Epoch 19/35\n",
      "178/178 [==============================] - 0s 1ms/step - loss: 0.4745 - accuracy: 0.7697 - val_loss: 0.4785 - val_accuracy: 0.7642\n",
      "Epoch 20/35\n",
      "178/178 [==============================] - 0s 1ms/step - loss: 0.4729 - accuracy: 0.7695 - val_loss: 0.4777 - val_accuracy: 0.7658\n",
      "Epoch 21/35\n",
      "178/178 [==============================] - 0s 1ms/step - loss: 0.4716 - accuracy: 0.7686 - val_loss: 0.4762 - val_accuracy: 0.7658\n",
      "Epoch 22/35\n",
      "178/178 [==============================] - 0s 1ms/step - loss: 0.4706 - accuracy: 0.7716 - val_loss: 0.4777 - val_accuracy: 0.7563\n",
      "Epoch 23/35\n"
     ]
    },
    {
     "name": "stdout",
     "output_type": "stream",
     "text": [
      "178/178 [==============================] - 0s 1ms/step - loss: 0.4700 - accuracy: 0.7704 - val_loss: 0.4749 - val_accuracy: 0.7642\n",
      "Epoch 24/35\n",
      "178/178 [==============================] - 0s 1ms/step - loss: 0.4686 - accuracy: 0.7732 - val_loss: 0.4762 - val_accuracy: 0.7563\n",
      "Epoch 25/35\n",
      "178/178 [==============================] - 0s 1ms/step - loss: 0.4677 - accuracy: 0.7721 - val_loss: 0.4743 - val_accuracy: 0.7674\n",
      "Epoch 26/35\n",
      "178/178 [==============================] - 0s 1ms/step - loss: 0.4668 - accuracy: 0.7714 - val_loss: 0.4741 - val_accuracy: 0.7706\n",
      "Epoch 27/35\n",
      "178/178 [==============================] - 0s 1ms/step - loss: 0.4659 - accuracy: 0.7746 - val_loss: 0.4742 - val_accuracy: 0.7674\n",
      "Epoch 28/35\n",
      "178/178 [==============================] - 0s 1ms/step - loss: 0.4647 - accuracy: 0.7758 - val_loss: 0.4726 - val_accuracy: 0.7627\n",
      "Epoch 29/35\n",
      "178/178 [==============================] - 0s 1ms/step - loss: 0.4641 - accuracy: 0.7737 - val_loss: 0.4718 - val_accuracy: 0.7706\n",
      "Epoch 30/35\n",
      "178/178 [==============================] - 0s 1ms/step - loss: 0.4639 - accuracy: 0.7751 - val_loss: 0.4729 - val_accuracy: 0.7627\n",
      "Epoch 31/35\n",
      "178/178 [==============================] - 0s 1ms/step - loss: 0.4628 - accuracy: 0.7767 - val_loss: 0.4720 - val_accuracy: 0.7642\n",
      "Epoch 32/35\n",
      "178/178 [==============================] - 0s 1ms/step - loss: 0.4618 - accuracy: 0.7753 - val_loss: 0.4729 - val_accuracy: 0.7690\n",
      "Epoch 33/35\n",
      "178/178 [==============================] - 0s 1ms/step - loss: 0.4609 - accuracy: 0.7755 - val_loss: 0.4721 - val_accuracy: 0.7658\n",
      "Epoch 34/35\n",
      "178/178 [==============================] - 0s 1ms/step - loss: 0.4605 - accuracy: 0.7769 - val_loss: 0.4721 - val_accuracy: 0.7706\n",
      "Epoch 35/35\n",
      "178/178 [==============================] - 0s 1ms/step - loss: 0.4600 - accuracy: 0.7772 - val_loss: 0.4718 - val_accuracy: 0.7737\n",
      "Prediction: 267.54614 vs. Real value: 259.0\n"
     ]
    }
   ],
   "source": [
    "model1 = keras.models.Sequential([\n",
    "        keras.layers.Dense(60, activation = 'relu', input_shape = df1_train.shape[1:]),\n",
    "        keras.layers.Dense(40, activation = 'relu'),\n",
    "        keras.layers.Dense(20, activation = 'relu'),\n",
    "        keras.layers.Dense(1, activation = 'sigmoid')\n",
    "    ])\n",
    "\n",
    "model1.compile(loss = 'binary_crossentropy', optimizer = 'sgd', metrics = ['accuracy'])\n",
    "history1 = model1.fit(df1_train, np.array(y1_train), epochs = 35, validation_split = 0.1)\n",
    "\n",
    "predictions1 = model1.predict(df1_test)\n",
    "predict1 = np.sum(predictions1)\n",
    "real1 = np.sum(y1_test)\n",
    "print('Prediction: ' + str(predict1) + ' vs. Real value: ' + str(real1))\n",
    "\n",
    "\n",
    "model2 = keras.models.Sequential([\n",
    "        keras.layers.Dense(60, activation = 'relu', input_shape = df2_train.shape[1:]),\n",
    "        keras.layers.Dense(40, activation = 'relu'),\n",
    "        keras.layers.Dense(20, activation = 'relu'),\n",
    "        keras.layers.Dense(1, activation = 'sigmoid')\n",
    "    ])\n",
    "model2.compile(loss = 'binary_crossentropy', optimizer = 'sgd', metrics = ['accuracy'])\n",
    "history2 = model2.fit(df2_train, np.array(y2_train), epochs = 35, validation_split = 0.1)\n",
    "\n",
    "predictions2 = model2.predict(df2_test)\n",
    "predict2 = np.sum(predictions2)\n",
    "real2 = np.sum(y2_test)\n",
    "print('Prediction: ' + str(predict2) + ' vs. Real value: ' + str(real2))  \n",
    "\n",
    "\n",
    "\n",
    "# print('#####')\n",
    "# matrix = confusion_matrix(y1_test, predictions1)\n",
    "# print(matrix)\n",
    "# plt.matshow(matrix, cmap=plt.cm.gray)\n",
    "# plt.show()  \n",
    "# row_sums = matrix.sum(axis=1, keepdims=True)\n",
    "# norm_matrix = matrix / row_sums\n",
    "# np.fill_diagonal(norm_matrix, 0)\n",
    "# plt.matshow(norm_matrix, cmap=plt.cm.gray)\n",
    "# plt.show()    \n",
    "# print('#####')\n",
    "\n",
    "# print('#####')\n",
    "# matrix = confusion_matrix(y2_test, predictions2)\n",
    "# print(matrix)\n",
    "# plt.matshow(matrix, cmap=plt.cm.gray)\n",
    "# plt.show()  \n",
    "# row_sums = matrix.sum(axis=1, keepdims=True)\n",
    "# norm_matrix = matrix / row_sums\n",
    "# np.fill_diagonal(norm_matrix, 0)\n",
    "# plt.matshow(norm_matrix, cmap=plt.cm.gray)\n",
    "# plt.show()    \n",
    "# print('#####')"
   ]
  },
  {
   "cell_type": "markdown",
   "id": "cb818ab8",
   "metadata": {},
   "source": [
    "### Random Forest:"
   ]
  },
  {
   "cell_type": "code",
   "execution_count": 10,
   "id": "3156c312",
   "metadata": {},
   "outputs": [
    {
     "name": "stdout",
     "output_type": "stream",
     "text": [
      "Prediction: 186.46104149207088 vs. Real value: 187.0\n",
      "Prediction: 267.25059523809523 vs. Real value: 259.0\n",
      "#####\n",
      "Scores:  [0.62050164 0.60959651 0.62159215 0.60087241 0.6259542 ]\n",
      "Mean:  0.6157033805888767\n",
      "Standard deviation:  0.009165496789291462\n",
      "[[2336  568]\n",
      " [1195  486]]\n",
      "#####\n",
      "#####\n",
      "Scores:  [0.72367379 0.76545166 0.73454834 0.76228209 0.74326466]\n",
      "Mean:  0.7458441087491986\n",
      "Standard deviation:  0.016002715249488802\n",
      "[[3282  699]\n",
      " [ 907 1423]]\n",
      "#####\n"
     ]
    }
   ],
   "source": [
    "from sklearn.ensemble import RandomForestClassifier\n",
    "\n",
    "forest_clf1 = RandomForestClassifier()\n",
    "forest_clf2 = RandomForestClassifier()\n",
    "\n",
    "# perform_probability_classification(forest_clf1, df1_train, y1_train, df1_test, y1_test)\n",
    "# perform_probability_classification(forest_clf2, df2_train, y2_train, df2_test, y2_test)\n",
    "\n",
    "probability_classification(forest_clf1, df1_train, y1_train, df1_test, y1_test)\n",
    "probability_classification(forest_clf2, df2_train, y2_train, df2_test, y2_test)\n",
    "\n",
    "perform_classification(forest_clf1, df1_train, y1_train)\n",
    "perform_classification(forest_clf2, df2_train, y2_train)"
   ]
  },
  {
   "cell_type": "markdown",
   "id": "3081d82a",
   "metadata": {},
   "source": [
    "### Support Vector Machine:"
   ]
  },
  {
   "cell_type": "code",
   "execution_count": 11,
   "id": "5b894e74",
   "metadata": {},
   "outputs": [
    {
     "name": "stdout",
     "output_type": "stream",
     "text": [
      "Prediction: 186.0763578927803 vs. Real value: 187.0\n",
      "Prediction: 262.0212810880333 vs. Real value: 259.0\n",
      "#####\n",
      "Scores:  [0.62922574 0.62704471 0.6346783  0.60414395 0.63576881]\n",
      "Mean:  0.6261723009814613\n",
      "Standard deviation:  0.011487192220077392\n",
      "[[2455  449]\n",
      " [1265  416]]\n",
      "#####\n",
      "#####\n",
      "Scores:  [0.68962787 0.70998415 0.67749604 0.70839937 0.69809826]\n",
      "Mean:  0.6967211366291363\n",
      "Standard deviation:  0.012116962727916987\n",
      "[[3558  423]\n",
      " [1491  839]]\n",
      "#####\n"
     ]
    }
   ],
   "source": [
    "from sklearn.svm import SVC\n",
    "\n",
    "svm_clf1 = SVC(kernel = 'rbf', gamma = 10, C = 100, probability = True)\n",
    "svm_clf2 = SVC(kernel = 'rbf', gamma = 10, C = 100, probability = True)\n",
    "\n",
    "# perform_probability_classification(svm_clf1, df1_train, y1_train, df1_test, y1_test)\n",
    "# perform_probability_classification(svm_clf2, df2_train, y2_train, df2_test, y2_test)\n",
    "\n",
    "probability_classification(svm_clf1, df1_train, y1_train, df1_test, y1_test)\n",
    "probability_classification(svm_clf2, df2_train, y2_train, df2_test, y2_test)\n",
    "\n",
    "perform_classification(svm_clf1, df1_train, y1_train)\n",
    "perform_classification(svm_clf2, df2_train, y2_train)"
   ]
  },
  {
   "cell_type": "markdown",
   "id": "df6c5251",
   "metadata": {},
   "source": [
    "# Problem 2 Ansatz 1 wird hier aufbereitet:\n",
    "Hier geht es um die Legetimation."
   ]
  },
  {
   "cell_type": "code",
   "execution_count": 13,
   "id": "16e31adf",
   "metadata": {},
   "outputs": [
    {
     "data": {
      "text/plain": [
       "[2218, 2048, 1899, 1607, 1319]"
      ]
     },
     "execution_count": 13,
     "metadata": {},
     "output_type": "execute_result"
    }
   ],
   "source": [
    "df_beginners = df_working.query('Studienjahr == 1')\n",
    "df_beginners\n",
    "\n",
    "lengths = []\n",
    "for i in [15,16,17,18,19]:\n",
    "    df_dummy = df_beginners.query('year == @i')\n",
    "    lengths.append(len(df_dummy))\n",
    "    \n",
    "lengths"
   ]
  },
  {
   "cell_type": "markdown",
   "id": "82d54e62",
   "metadata": {},
   "source": [
    "### Diese Trendanalyse ist nicht aussagekraeftig!!!!"
   ]
  },
  {
   "cell_type": "code",
   "execution_count": 14,
   "id": "b8372b68",
   "metadata": {},
   "outputs": [
    {
     "data": {
      "text/plain": [
       "[<matplotlib.lines.Line2D at 0x7fdcf00b93a0>]"
      ]
     },
     "execution_count": 14,
     "metadata": {},
     "output_type": "execute_result"
    },
    {
     "data": {
      "image/png": "[encoded data removed]",
      "text/plain": [
       "<Figure size 432x288 with 1 Axes>"
      ]
     },
     "metadata": {
      "needs_background": "light"
     },
     "output_type": "display_data"
    }
   ],
   "source": [
    "plt.plot([15,16,17,18,19], lengths)"
   ]
  },
  {
   "cell_type": "code",
   "execution_count": 15,
   "id": "65282db3",
   "metadata": {},
   "outputs": [
    {
     "name": "stdout",
     "output_type": "stream",
     "text": [
      "[1146.5  922.6]\n",
      "[2218, 2048, 1899, 1607, 1319]\n"
     ]
    }
   ],
   "source": [
    "from sklearn.linear_model import LinearRegression\n",
    "years = np.array([15,16,17,18,19])\n",
    "year_model = LinearRegression()\n",
    "year_model.fit(years.reshape(-1,1), lengths)\n",
    "\n",
    "predicted_years = np.array([20,21])\n",
    "print(year_model.predict(predicted_years.reshape(-1,1)))\n",
    "print(lengths)"
   ]
  },
  {
   "cell_type": "code",
   "execution_count": 16,
   "id": "219b536f",
   "metadata": {},
   "outputs": [],
   "source": [
    "features2years = ['Studienjahr', 'styria_dummy', 'not_styria_dummy', 'germany_dummy',\n",
    "                  'num_parallel_studies', 'years_since_matura', 'firstGen',\n",
    "                  'geschlecht', 'AHS_dummy', 'BHS_dummy', 'ausland_vorbildung_dummy',\n",
    "                  'sonstige_vorbildung_dummy', 'jus_dummy', 'bwl_dummy',\n",
    "                  'delayed_dummy','active_2years']\n",
    "\n",
    "features1year = ['Studienjahr', 'styria_dummy', 'not_styria_dummy', 'germany_dummy',\n",
    "#                   'num_parallel_studies', 'years_since_matura', 'firstGen',\n",
    "                  'geschlecht', 'AHS_dummy', 'BHS_dummy', 'ausland_vorbildung_dummy',\n",
    "                  'sonstige_vorbildung_dummy', 'jus_dummy', 'bwl_dummy',\n",
    "#                   'delayed_dummy',\n",
    "                 'active_dummy']"
   ]
  },
  {
   "cell_type": "code",
   "execution_count": 60,
   "id": "8d1cc869",
   "metadata": {},
   "outputs": [
    {
     "data": {
      "text/plain": [
       "0        0.0\n",
       "1        0.0\n",
       "2        0.0\n",
       "3        0.0\n",
       "4        0.0\n",
       "        ... \n",
       "39937    0.0\n",
       "39938    0.0\n",
       "39939    0.0\n",
       "39940    0.0\n",
       "39941    0.0\n",
       "Name: active_2years, Length: 39942, dtype: float64"
      ]
     },
     "execution_count": 60,
     "metadata": {},
     "output_type": "execute_result"
    }
   ],
   "source": [
    "df = load_df('adapted_data.csv').drop(['Unnamed: 0'], axis =1)\n",
    "\n",
    "def active_2years(df):\n",
    "    df['active_3years'] = 0\n",
    "    for i in range(len(df)):\n",
    "        \n",
    "        matrikel_number = df.loc[i, 'matrikel_num']\n",
    "        studienjahr = df.loc[i, 'Studienjahr'] + 1\n",
    "        jus_dummy = df.loc[i, 'jus_dummy']\n",
    "        bwl_dummy = df.loc[i, 'bwl_dummy']\n",
    "        \n",
    "        student2 = df.query('matrikel_num == @matrikel_number and Studienjahr == @studienjahr and jus_dummy == @jus_dummy and bwl_dummy == @bwl_dummy').reset_index(drop = True)\n",
    "\n",
    "        if len(student2) != 0:\n",
    "            active = student2.loc[0, 'active_dummy']\n",
    "            df.loc[i, 'active_2years'] = active\n",
    "            \n",
    "    return df\n",
    "\n",
    "df_2years = active_2years(df)\n",
    "df_2years['active_2years'].fillna(0)\n"
   ]
  },
  {
   "cell_type": "code",
   "execution_count": 68,
   "id": "7ed5f4c1",
   "metadata": {},
   "outputs": [],
   "source": [
    "df_2years = df_2years.query('year <= 17 and Studienjahr == 1')"
   ]
  },
  {
   "cell_type": "code",
   "execution_count": 69,
   "id": "849b2329",
   "metadata": {},
   "outputs": [
    {
     "data": {
      "text/plain": [
       "1.0    872\n",
       "0.0    649\n",
       "Name: active_2years, dtype: int64"
      ]
     },
     "execution_count": 69,
     "metadata": {},
     "output_type": "execute_result"
    }
   ],
   "source": [
    "df_2years.query('year == 15')['active_2years'].value_counts()"
   ]
  },
  {
   "cell_type": "code",
   "execution_count": 78,
   "id": "c6f0dd0e",
   "metadata": {},
   "outputs": [
    {
     "name": "stdout",
     "output_type": "stream",
     "text": [
      "1421\n"
     ]
    },
    {
     "data": {
      "text/plain": [
       "1.0    812\n",
       "0.0    609\n",
       "Name: active_2years, dtype: int64"
      ]
     },
     "execution_count": 78,
     "metadata": {},
     "output_type": "execute_result"
    }
   ],
   "source": [
    "print(len(df_2years.query('year == 16 and active_2years >= 0')))\n",
    "df_2years.query('year == 16')['active_2years'].value_counts()\n"
   ]
  },
  {
   "cell_type": "code",
   "execution_count": 71,
   "id": "80cb6450",
   "metadata": {},
   "outputs": [
    {
     "data": {
      "text/plain": [
       "1.0    708\n",
       "0.0    541\n",
       "Name: active_2years, dtype: int64"
      ]
     },
     "execution_count": 71,
     "metadata": {},
     "output_type": "execute_result"
    }
   ],
   "source": [
    "df_2years.query('year == 17')['active_2years'].value_counts()"
   ]
  },
  {
   "cell_type": "code",
   "execution_count": 72,
   "id": "640f7d00",
   "metadata": {},
   "outputs": [
    {
     "data": {
      "text/plain": [
       "0        0\n",
       "1        0\n",
       "2        0\n",
       "3        1\n",
       "4        0\n",
       "        ..\n",
       "39937    0\n",
       "39938    0\n",
       "39939    1\n",
       "39940    1\n",
       "39941    1\n",
       "Name: active_dummy, Length: 39942, dtype: int64"
      ]
     },
     "execution_count": 72,
     "metadata": {},
     "output_type": "execute_result"
    }
   ],
   "source": [
    "df = load_df('adapted_data.csv').drop(['Unnamed: 0'], axis =1)\n",
    "df_1year = df.copy(deep = True)\n",
    "df_1year['active_dummy'].fillna(0)\n"
   ]
  },
  {
   "cell_type": "code",
   "execution_count": 73,
   "id": "459d0281",
   "metadata": {},
   "outputs": [],
   "source": [
    "df2years = df_2years[features2years].query('Studienjahr == 1').reset_index(drop = True).dropna()\n",
    "df1year = df_1year[features1year].query('Studienjahr == 1').reset_index(drop = True).dropna()\n",
    "\n",
    "\n",
    "df_train2 = df2years.drop(['active_2years'], axis = 1)\n",
    "y_train2 = df2years['active_2years']\n",
    "\n",
    "df_train1 = df1year.drop(['active_dummy'], axis = 1)\n",
    "y_train1 = df1year['active_dummy']\n",
    "\n"
   ]
  },
  {
   "cell_type": "code",
   "execution_count": 74,
   "id": "d0c794f8",
   "metadata": {},
   "outputs": [
    {
     "data": {
      "text/plain": [
       "SVC(C=100, gamma=10, probability=True)"
      ]
     },
     "execution_count": 74,
     "metadata": {},
     "output_type": "execute_result"
    }
   ],
   "source": [
    "svm_clf1year = SVC(kernel = 'rbf', gamma = 10, C = 100, probability = True)\n",
    "svm_clf2years = SVC(kernel = 'rbf', gamma = 10, C = 100, probability = True)\n",
    "\n",
    "svm_clf1year.fit(df_train1, y_train1)\n",
    "svm_clf2years.fit(df_train2, y_train2)"
   ]
  },
  {
   "cell_type": "code",
   "execution_count": 48,
   "id": "cb456c03",
   "metadata": {},
   "outputs": [],
   "source": [
    "df1_15 = df_1year.query('Studienjahr == 1 and year == 15')[features1year].drop(['active_dummy'], axis = 1).fillna(0)\n",
    "df1_16 = df_1year.query('Studienjahr == 1 and year == 16')[features1year].drop(['active_dummy'], axis = 1).fillna(0)\n",
    "df1_17 = df_1year.query('Studienjahr == 1 and year == 17')[features1year].drop(['active_dummy'], axis = 1).fillna(0)\n",
    "\n",
    "df1_dummy16 = df1_15.sample(n = 2048)\n",
    "df1_dummy17 = df1_16.sample(n = 1899)\n"
   ]
  },
  {
   "cell_type": "code",
   "execution_count": 49,
   "id": "1d6351e8",
   "metadata": {},
   "outputs": [],
   "source": [
    "def predict_sum(classifier, df):\n",
    "    probabilities = classifier.predict_proba(df)[:,1]\n",
    "    for i in range(len(probabilities)):\n",
    "        num = rd.random()\n",
    "        if probabilities[i] >= num:\n",
    "            probabilities[i] = 1\n",
    "        else:\n",
    "            probabilities[i] = 0\n",
    "    print(sum(probabilities))\n",
    "    print('######')\n",
    "\n"
   ]
  },
  {
   "cell_type": "code",
   "execution_count": 50,
   "id": "4beaf97a",
   "metadata": {},
   "outputs": [
    {
     "name": "stdout",
     "output_type": "stream",
     "text": [
      "1118.0\n",
      "######\n",
      "1105.0\n",
      "######\n",
      "1092\n",
      "\n",
      "1000.0\n",
      "######\n",
      "984.0\n",
      "######\n",
      "973\n"
     ]
    }
   ],
   "source": [
    "\n",
    "predict_sum(svm_clf1year, df1_16)\n",
    "predict_sum(svm_clf1year, df1_dummy16)\n",
    "print(len(df.query('Studienjahr == 1 and year == 16 and active_dummy == 1')))\n",
    "print('')\n",
    "\n",
    "predict_sum(svm_clf1year, df1_17)\n",
    "predict_sum(svm_clf1year, df1_dummy17)\n",
    "print(len(df.query('Studienjahr == 1 and year == 17 and active_dummy == 1')))"
   ]
  },
  {
   "cell_type": "code",
   "execution_count": null,
   "id": "0590cd51",
   "metadata": {},
   "outputs": [],
   "source": []
  },
  {
   "cell_type": "code",
   "execution_count": 82,
   "id": "0805adb2",
   "metadata": {},
   "outputs": [
    {
     "name": "stdout",
     "output_type": "stream",
     "text": [
      "1421\n",
      "1249\n"
     ]
    }
   ],
   "source": [
    "df2_15 = df_2years.query('Studienjahr == 1 and year == 15 and active_2years >= 0')[features2years].drop(['active_2years'], axis = 1).fillna(0)\n",
    "df2_16 = df_2years.query('Studienjahr == 1 and year == 16 and active_2years >= 0')[features2years].drop(['active_2years'], axis = 1).fillna(0)\n",
    "df2_17 = df_2years.query('Studienjahr == 1 and year == 17 and active_2years >= 0')[features2years].drop(['active_2years'], axis = 1).fillna(0)\n",
    "print(len(df2_16))\n",
    "print(len(df2_17))\n",
    "\n",
    "df2_dummy16 = df2_15.sample(n = 1421)\n",
    "df2_dummy17 = df2_16.sample(n = 1249)"
   ]
  },
  {
   "cell_type": "code",
   "execution_count": 83,
   "id": "8bd3f9bd",
   "metadata": {},
   "outputs": [
    {
     "name": "stdout",
     "output_type": "stream",
     "text": [
      "867.0\n",
      "######\n",
      "878.0\n",
      "######\n",
      "819\n",
      "\n",
      "769.0\n",
      "######\n",
      "769.0\n",
      "######\n",
      "721\n"
     ]
    }
   ],
   "source": [
    "predict_sum(svm_clf2years, df2_16)\n",
    "predict_sum(svm_clf2years, df2_dummy16)\n",
    "print(len(df.query('Studienjahr == 2 and year == 17 and active_dummy == 1')))\n",
    "print('')\n",
    "\n",
    "predict_sum(svm_clf2years, df2_17)\n",
    "predict_sum(svm_clf2years, df2_dummy17)\n",
    "print(len(df.query('Studienjahr == 2 and year == 18 and active_dummy == 1')))"
   ]
  },
  {
   "cell_type": "code",
   "execution_count": 53,
   "id": "2a5732a6",
   "metadata": {},
   "outputs": [],
   "source": [
    "# df = load_df('adapted_data.csv').drop(['Unnamed: 0'], axis =1)\n",
    "\n",
    "# features2years = ['Studienjahr', 'styria_dummy', 'not_styria_dummy', 'germany_dummy',\n",
    "#                   'num_parallel_studies', 'years_since_matura', 'firstGen',\n",
    "#                   'geschlecht', 'AHS_dummy', 'BHS_dummy', 'ausland_vorbildung_dummy',\n",
    "#                   'sonstige_vorbildung_dummy', 'jus_dummy', 'bwl_dummy',\n",
    "#                   'delayed_dummy']\n",
    "\n",
    "# features1year = ['Studienjahr', 'styria_dummy', 'not_styria_dummy', 'germany_dummy',\n",
    "# #                   'num_parallel_studies', 'years_since_matura', 'firstGen',\n",
    "#                   'geschlecht', 'AHS_dummy', 'BHS_dummy', 'ausland_vorbildung_dummy',\n",
    "#                   'sonstige_vorbildung_dummy', 'jus_dummy', 'bwl_dummy',\n",
    "# #                   'delayed_dummy',\n",
    "#                  ]\n",
    "\n",
    "\n",
    "# df19 = df.query('Studienjahr == 1 and year == 19')\n"
   ]
  },
  {
   "cell_type": "code",
   "execution_count": 54,
   "id": "63fb6b83",
   "metadata": {},
   "outputs": [],
   "source": [
    "# df20 = df19.sample(n = 1146)\n",
    "# df21 = df19.sample(n = 922)\n",
    "\n",
    "# df20 = df20[features2years].fillna(0)\n",
    "# df21 = df21[features1year].fillna(0)"
   ]
  },
  {
   "cell_type": "code",
   "execution_count": 55,
   "id": "ecda65b7",
   "metadata": {},
   "outputs": [],
   "source": [
    "# predict_sum(svm_clf2years, df20)\n",
    "# predict_sum(svm_clf1year, df21)"
   ]
  },
  {
   "cell_type": "markdown",
   "id": "ad0d6a30",
   "metadata": {},
   "source": [
    "# Ansatz 2 fuer P2:\n",
    "\n",
    "Training der Classifier fuer Studienjahre 1 und 2 (habe nicht mehr neu hinzukommende) wie zuvor, nur mit ein bisschen weniger Features.\n",
    "\n",
    "Danach Prediction der neu hinzukommenden in allen 72 Klassen und Prediction der Aktivitaet durch die Classifier.\n",
    "\n",
    "# Vergleich zu Ansatz 1 fuer P2: \n",
    "\n",
    "Nicht wirklich moeglich, weil ich jeweils einfach keine Zeitreihenanalyse machen kann. \n",
    "\n",
    "Mache die 2 Legitimierungen fuer Ansatz 1.\n",
    "\n",
    "Mache die Legitimierung fuer die leicht schlechteren Classifier von Ansatz 2. "
   ]
  },
  {
   "cell_type": "code",
   "execution_count": null,
   "id": "2ecde99f",
   "metadata": {},
   "outputs": [],
   "source": []
  },
  {
   "cell_type": "code",
   "execution_count": null,
   "id": "86955831",
   "metadata": {},
   "outputs": [],
   "source": []
  },
  {
   "cell_type": "code",
   "execution_count": null,
   "id": "fd9af84a",
   "metadata": {},
   "outputs": [],
   "source": []
  }
 ],
 "metadata": {
  "kernelspec": {
   "display_name": "Python 3",
   "language": "python",
   "name": "python3"
  },
  "language_info": {
   "codemirror_mode": {
    "name": "ipython",
    "version": 3
   },
   "file_extension": ".py",
   "mimetype": "text/x-python",
   "name": "python",
   "nbconvert_exporter": "python",
   "pygments_lexer": "ipython3",
   "version": "3.8.10"
  }
 },
 "nbformat": 4,
 "nbformat_minor": 5
}
